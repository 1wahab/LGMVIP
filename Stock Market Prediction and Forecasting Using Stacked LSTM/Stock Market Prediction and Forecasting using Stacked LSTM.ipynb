{
 "cells": [
  {
   "cell_type": "markdown",
   "id": "4f7d1b49",
   "metadata": {},
   "source": [
    "# Stock Price Prediction and Forecasting using Stacked LSTM\n",
    "\n",
    "Stock price prediction and forecasting using Stacked LSTM involves employing a deep learning model known as Stacked Long Short-Term Memory (LSTM) to analyze historical stock price data and make predictions about future price movements. The Stacked LSTM architecture utilizes multiple LSTM layers, allowing the model to capture complex patterns and dependencies in the stock market data, leading to more accurate predictions."
   ]
  },
  {
   "cell_type": "markdown",
   "id": "fcad0804",
   "metadata": {},
   "source": [
    "### Importing the Libraries"
   ]
  },
  {
   "cell_type": "code",
   "execution_count": 1,
   "id": "21dd49b0",
   "metadata": {},
   "outputs": [],
   "source": [
    "import numpy as np\n",
    "import pandas as pd\n",
    "import matplotlib.pyplot as plt\n",
    "import seaborn as sns\n",
    "from sklearn.preprocessing import MinMaxScaler"
   ]
  },
  {
   "cell_type": "markdown",
   "id": "35ab3d3d",
   "metadata": {},
   "source": [
    "### Loading the Dataset\n",
    "Here we are making use of Tata's stock price values"
   ]
  },
  {
   "cell_type": "code",
   "execution_count": 2,
   "id": "ffdae041",
   "metadata": {},
   "outputs": [],
   "source": [
    "df = pd.read_csv(\"https://raw.githubusercontent.com/mwitiderrick/stockprice/master/NSE-TATAGLOBAL.csv\")"
   ]
  },
  {
   "cell_type": "code",
   "execution_count": 3,
   "id": "596461d5",
   "metadata": {},
   "outputs": [
    {
     "data": {
      "text/plain": [
       "(2035, 8)"
      ]
     },
     "execution_count": 3,
     "metadata": {},
     "output_type": "execute_result"
    }
   ],
   "source": [
    "df.shape"
   ]
  },
  {
   "cell_type": "code",
   "execution_count": 5,
   "id": "b44942e3",
   "metadata": {},
   "outputs": [],
   "source": [
    "# sorting the data in ascending order of date\n",
    "df = df.sort_values(by='Date')\n",
    "df = df.reset_index()"
   ]
  },
  {
   "cell_type": "code",
   "execution_count": 6,
   "id": "a210c95b",
   "metadata": {},
   "outputs": [
    {
     "data": {
      "text/html": [
       "<div>\n",
       "<style scoped>\n",
       "    .dataframe tbody tr th:only-of-type {\n",
       "        vertical-align: middle;\n",
       "    }\n",
       "\n",
       "    .dataframe tbody tr th {\n",
       "        vertical-align: top;\n",
       "    }\n",
       "\n",
       "    .dataframe thead th {\n",
       "        text-align: right;\n",
       "    }\n",
       "</style>\n",
       "<table border=\"1\" class=\"dataframe\">\n",
       "  <thead>\n",
       "    <tr style=\"text-align: right;\">\n",
       "      <th></th>\n",
       "      <th>level_0</th>\n",
       "      <th>index</th>\n",
       "      <th>Date</th>\n",
       "      <th>Open</th>\n",
       "      <th>High</th>\n",
       "      <th>Low</th>\n",
       "      <th>Last</th>\n",
       "      <th>Close</th>\n",
       "      <th>Total Trade Quantity</th>\n",
       "      <th>Turnover (Lacs)</th>\n",
       "    </tr>\n",
       "  </thead>\n",
       "  <tbody>\n",
       "    <tr>\n",
       "      <th>0</th>\n",
       "      <td>0</td>\n",
       "      <td>2034</td>\n",
       "      <td>2010-07-21</td>\n",
       "      <td>122.1</td>\n",
       "      <td>123.00</td>\n",
       "      <td>121.05</td>\n",
       "      <td>121.10</td>\n",
       "      <td>121.55</td>\n",
       "      <td>658666</td>\n",
       "      <td>803.56</td>\n",
       "    </tr>\n",
       "    <tr>\n",
       "      <th>1</th>\n",
       "      <td>1</td>\n",
       "      <td>2033</td>\n",
       "      <td>2010-07-22</td>\n",
       "      <td>120.3</td>\n",
       "      <td>122.00</td>\n",
       "      <td>120.25</td>\n",
       "      <td>120.75</td>\n",
       "      <td>120.90</td>\n",
       "      <td>293312</td>\n",
       "      <td>355.17</td>\n",
       "    </tr>\n",
       "    <tr>\n",
       "      <th>2</th>\n",
       "      <td>2</td>\n",
       "      <td>2032</td>\n",
       "      <td>2010-07-23</td>\n",
       "      <td>121.8</td>\n",
       "      <td>121.95</td>\n",
       "      <td>120.25</td>\n",
       "      <td>120.35</td>\n",
       "      <td>120.65</td>\n",
       "      <td>281312</td>\n",
       "      <td>340.31</td>\n",
       "    </tr>\n",
       "    <tr>\n",
       "      <th>3</th>\n",
       "      <td>3</td>\n",
       "      <td>2031</td>\n",
       "      <td>2010-07-26</td>\n",
       "      <td>120.1</td>\n",
       "      <td>121.00</td>\n",
       "      <td>117.10</td>\n",
       "      <td>117.10</td>\n",
       "      <td>117.60</td>\n",
       "      <td>658440</td>\n",
       "      <td>780.01</td>\n",
       "    </tr>\n",
       "    <tr>\n",
       "      <th>4</th>\n",
       "      <td>4</td>\n",
       "      <td>2030</td>\n",
       "      <td>2010-07-27</td>\n",
       "      <td>117.6</td>\n",
       "      <td>119.50</td>\n",
       "      <td>112.00</td>\n",
       "      <td>118.80</td>\n",
       "      <td>118.65</td>\n",
       "      <td>586100</td>\n",
       "      <td>694.98</td>\n",
       "    </tr>\n",
       "  </tbody>\n",
       "</table>\n",
       "</div>"
      ],
      "text/plain": [
       "   level_0  index        Date   Open    High     Low    Last   Close  \\\n",
       "0        0   2034  2010-07-21  122.1  123.00  121.05  121.10  121.55   \n",
       "1        1   2033  2010-07-22  120.3  122.00  120.25  120.75  120.90   \n",
       "2        2   2032  2010-07-23  121.8  121.95  120.25  120.35  120.65   \n",
       "3        3   2031  2010-07-26  120.1  121.00  117.10  117.10  117.60   \n",
       "4        4   2030  2010-07-27  117.6  119.50  112.00  118.80  118.65   \n",
       "\n",
       "   Total Trade Quantity  Turnover (Lacs)  \n",
       "0                658666           803.56  \n",
       "1                293312           355.17  \n",
       "2                281312           340.31  \n",
       "3                658440           780.01  \n",
       "4                586100           694.98  "
      ]
     },
     "execution_count": 6,
     "metadata": {},
     "output_type": "execute_result"
    }
   ],
   "source": [
    "df.head()"
   ]
  },
  {
   "cell_type": "code",
   "execution_count": 7,
   "id": "535c1453",
   "metadata": {},
   "outputs": [
    {
     "data": {
      "text/html": [
       "<div>\n",
       "<style scoped>\n",
       "    .dataframe tbody tr th:only-of-type {\n",
       "        vertical-align: middle;\n",
       "    }\n",
       "\n",
       "    .dataframe tbody tr th {\n",
       "        vertical-align: top;\n",
       "    }\n",
       "\n",
       "    .dataframe thead th {\n",
       "        text-align: right;\n",
       "    }\n",
       "</style>\n",
       "<table border=\"1\" class=\"dataframe\">\n",
       "  <thead>\n",
       "    <tr style=\"text-align: right;\">\n",
       "      <th></th>\n",
       "      <th>level_0</th>\n",
       "      <th>index</th>\n",
       "      <th>Date</th>\n",
       "      <th>Open</th>\n",
       "      <th>High</th>\n",
       "      <th>Low</th>\n",
       "      <th>Last</th>\n",
       "      <th>Close</th>\n",
       "      <th>Total Trade Quantity</th>\n",
       "      <th>Turnover (Lacs)</th>\n",
       "    </tr>\n",
       "  </thead>\n",
       "  <tbody>\n",
       "    <tr>\n",
       "      <th>2030</th>\n",
       "      <td>2030</td>\n",
       "      <td>4</td>\n",
       "      <td>2018-09-24</td>\n",
       "      <td>233.55</td>\n",
       "      <td>239.20</td>\n",
       "      <td>230.75</td>\n",
       "      <td>234.00</td>\n",
       "      <td>233.30</td>\n",
       "      <td>3423509</td>\n",
       "      <td>7999.55</td>\n",
       "    </tr>\n",
       "    <tr>\n",
       "      <th>2031</th>\n",
       "      <td>2031</td>\n",
       "      <td>3</td>\n",
       "      <td>2018-09-25</td>\n",
       "      <td>233.30</td>\n",
       "      <td>236.75</td>\n",
       "      <td>232.00</td>\n",
       "      <td>236.25</td>\n",
       "      <td>236.10</td>\n",
       "      <td>2349368</td>\n",
       "      <td>5503.90</td>\n",
       "    </tr>\n",
       "    <tr>\n",
       "      <th>2032</th>\n",
       "      <td>2032</td>\n",
       "      <td>2</td>\n",
       "      <td>2018-09-26</td>\n",
       "      <td>240.00</td>\n",
       "      <td>240.00</td>\n",
       "      <td>232.50</td>\n",
       "      <td>235.00</td>\n",
       "      <td>234.25</td>\n",
       "      <td>2240909</td>\n",
       "      <td>5248.60</td>\n",
       "    </tr>\n",
       "    <tr>\n",
       "      <th>2033</th>\n",
       "      <td>2033</td>\n",
       "      <td>1</td>\n",
       "      <td>2018-09-27</td>\n",
       "      <td>234.55</td>\n",
       "      <td>236.80</td>\n",
       "      <td>231.10</td>\n",
       "      <td>233.80</td>\n",
       "      <td>233.25</td>\n",
       "      <td>5082859</td>\n",
       "      <td>11859.95</td>\n",
       "    </tr>\n",
       "    <tr>\n",
       "      <th>2034</th>\n",
       "      <td>2034</td>\n",
       "      <td>0</td>\n",
       "      <td>2018-09-28</td>\n",
       "      <td>234.05</td>\n",
       "      <td>235.95</td>\n",
       "      <td>230.20</td>\n",
       "      <td>233.50</td>\n",
       "      <td>233.75</td>\n",
       "      <td>3069914</td>\n",
       "      <td>7162.35</td>\n",
       "    </tr>\n",
       "  </tbody>\n",
       "</table>\n",
       "</div>"
      ],
      "text/plain": [
       "      level_0  index        Date    Open    High     Low    Last   Close  \\\n",
       "2030     2030      4  2018-09-24  233.55  239.20  230.75  234.00  233.30   \n",
       "2031     2031      3  2018-09-25  233.30  236.75  232.00  236.25  236.10   \n",
       "2032     2032      2  2018-09-26  240.00  240.00  232.50  235.00  234.25   \n",
       "2033     2033      1  2018-09-27  234.55  236.80  231.10  233.80  233.25   \n",
       "2034     2034      0  2018-09-28  234.05  235.95  230.20  233.50  233.75   \n",
       "\n",
       "      Total Trade Quantity  Turnover (Lacs)  \n",
       "2030               3423509          7999.55  \n",
       "2031               2349368          5503.90  \n",
       "2032               2240909          5248.60  \n",
       "2033               5082859         11859.95  \n",
       "2034               3069914          7162.35  "
      ]
     },
     "execution_count": 7,
     "metadata": {},
     "output_type": "execute_result"
    }
   ],
   "source": [
    "df.tail()"
   ]
  },
  {
   "cell_type": "code",
   "execution_count": 8,
   "id": "17aef594",
   "metadata": {},
   "outputs": [
    {
     "name": "stdout",
     "output_type": "stream",
     "text": [
      "<class 'pandas.core.frame.DataFrame'>\n",
      "RangeIndex: 2035 entries, 0 to 2034\n",
      "Data columns (total 10 columns):\n",
      " #   Column                Non-Null Count  Dtype  \n",
      "---  ------                --------------  -----  \n",
      " 0   level_0               2035 non-null   int64  \n",
      " 1   index                 2035 non-null   int64  \n",
      " 2   Date                  2035 non-null   object \n",
      " 3   Open                  2035 non-null   float64\n",
      " 4   High                  2035 non-null   float64\n",
      " 5   Low                   2035 non-null   float64\n",
      " 6   Last                  2035 non-null   float64\n",
      " 7   Close                 2035 non-null   float64\n",
      " 8   Total Trade Quantity  2035 non-null   int64  \n",
      " 9   Turnover (Lacs)       2035 non-null   float64\n",
      "dtypes: float64(6), int64(3), object(1)\n",
      "memory usage: 159.1+ KB\n"
     ]
    }
   ],
   "source": [
    "df.info()"
   ]
  },
  {
   "cell_type": "code",
   "execution_count": 9,
   "id": "18209ab6",
   "metadata": {},
   "outputs": [
    {
     "data": {
      "text/html": [
       "<div>\n",
       "<style scoped>\n",
       "    .dataframe tbody tr th:only-of-type {\n",
       "        vertical-align: middle;\n",
       "    }\n",
       "\n",
       "    .dataframe tbody tr th {\n",
       "        vertical-align: top;\n",
       "    }\n",
       "\n",
       "    .dataframe thead th {\n",
       "        text-align: right;\n",
       "    }\n",
       "</style>\n",
       "<table border=\"1\" class=\"dataframe\">\n",
       "  <thead>\n",
       "    <tr style=\"text-align: right;\">\n",
       "      <th></th>\n",
       "      <th>level_0</th>\n",
       "      <th>index</th>\n",
       "      <th>Open</th>\n",
       "      <th>High</th>\n",
       "      <th>Low</th>\n",
       "      <th>Last</th>\n",
       "      <th>Close</th>\n",
       "      <th>Total Trade Quantity</th>\n",
       "      <th>Turnover (Lacs)</th>\n",
       "    </tr>\n",
       "  </thead>\n",
       "  <tbody>\n",
       "    <tr>\n",
       "      <th>count</th>\n",
       "      <td>2035.000000</td>\n",
       "      <td>2035.000000</td>\n",
       "      <td>2035.000000</td>\n",
       "      <td>2035.000000</td>\n",
       "      <td>2035.000000</td>\n",
       "      <td>2035.000000</td>\n",
       "      <td>2035.00000</td>\n",
       "      <td>2.035000e+03</td>\n",
       "      <td>2035.000000</td>\n",
       "    </tr>\n",
       "    <tr>\n",
       "      <th>mean</th>\n",
       "      <td>1017.000000</td>\n",
       "      <td>1017.000000</td>\n",
       "      <td>149.713735</td>\n",
       "      <td>151.992826</td>\n",
       "      <td>147.293931</td>\n",
       "      <td>149.474251</td>\n",
       "      <td>149.45027</td>\n",
       "      <td>2.335681e+06</td>\n",
       "      <td>3899.980565</td>\n",
       "    </tr>\n",
       "    <tr>\n",
       "      <th>std</th>\n",
       "      <td>587.598219</td>\n",
       "      <td>587.598219</td>\n",
       "      <td>48.664509</td>\n",
       "      <td>49.413109</td>\n",
       "      <td>47.931958</td>\n",
       "      <td>48.732570</td>\n",
       "      <td>48.71204</td>\n",
       "      <td>2.091778e+06</td>\n",
       "      <td>4570.767877</td>\n",
       "    </tr>\n",
       "    <tr>\n",
       "      <th>min</th>\n",
       "      <td>0.000000</td>\n",
       "      <td>0.000000</td>\n",
       "      <td>81.100000</td>\n",
       "      <td>82.800000</td>\n",
       "      <td>80.000000</td>\n",
       "      <td>81.000000</td>\n",
       "      <td>80.95000</td>\n",
       "      <td>3.961000e+04</td>\n",
       "      <td>37.040000</td>\n",
       "    </tr>\n",
       "    <tr>\n",
       "      <th>25%</th>\n",
       "      <td>508.500000</td>\n",
       "      <td>508.500000</td>\n",
       "      <td>120.025000</td>\n",
       "      <td>122.100000</td>\n",
       "      <td>118.300000</td>\n",
       "      <td>120.075000</td>\n",
       "      <td>120.05000</td>\n",
       "      <td>1.146444e+06</td>\n",
       "      <td>1427.460000</td>\n",
       "    </tr>\n",
       "    <tr>\n",
       "      <th>50%</th>\n",
       "      <td>1017.000000</td>\n",
       "      <td>1017.000000</td>\n",
       "      <td>141.500000</td>\n",
       "      <td>143.400000</td>\n",
       "      <td>139.600000</td>\n",
       "      <td>141.100000</td>\n",
       "      <td>141.25000</td>\n",
       "      <td>1.783456e+06</td>\n",
       "      <td>2512.030000</td>\n",
       "    </tr>\n",
       "    <tr>\n",
       "      <th>75%</th>\n",
       "      <td>1525.500000</td>\n",
       "      <td>1525.500000</td>\n",
       "      <td>157.175000</td>\n",
       "      <td>159.400000</td>\n",
       "      <td>155.150000</td>\n",
       "      <td>156.925000</td>\n",
       "      <td>156.90000</td>\n",
       "      <td>2.813594e+06</td>\n",
       "      <td>4539.015000</td>\n",
       "    </tr>\n",
       "    <tr>\n",
       "      <th>max</th>\n",
       "      <td>2034.000000</td>\n",
       "      <td>2034.000000</td>\n",
       "      <td>327.700000</td>\n",
       "      <td>328.750000</td>\n",
       "      <td>321.650000</td>\n",
       "      <td>325.950000</td>\n",
       "      <td>325.75000</td>\n",
       "      <td>2.919102e+07</td>\n",
       "      <td>55755.080000</td>\n",
       "    </tr>\n",
       "  </tbody>\n",
       "</table>\n",
       "</div>"
      ],
      "text/plain": [
       "           level_0        index         Open         High          Low  \\\n",
       "count  2035.000000  2035.000000  2035.000000  2035.000000  2035.000000   \n",
       "mean   1017.000000  1017.000000   149.713735   151.992826   147.293931   \n",
       "std     587.598219   587.598219    48.664509    49.413109    47.931958   \n",
       "min       0.000000     0.000000    81.100000    82.800000    80.000000   \n",
       "25%     508.500000   508.500000   120.025000   122.100000   118.300000   \n",
       "50%    1017.000000  1017.000000   141.500000   143.400000   139.600000   \n",
       "75%    1525.500000  1525.500000   157.175000   159.400000   155.150000   \n",
       "max    2034.000000  2034.000000   327.700000   328.750000   321.650000   \n",
       "\n",
       "              Last       Close  Total Trade Quantity  Turnover (Lacs)  \n",
       "count  2035.000000  2035.00000          2.035000e+03      2035.000000  \n",
       "mean    149.474251   149.45027          2.335681e+06      3899.980565  \n",
       "std      48.732570    48.71204          2.091778e+06      4570.767877  \n",
       "min      81.000000    80.95000          3.961000e+04        37.040000  \n",
       "25%     120.075000   120.05000          1.146444e+06      1427.460000  \n",
       "50%     141.100000   141.25000          1.783456e+06      2512.030000  \n",
       "75%     156.925000   156.90000          2.813594e+06      4539.015000  \n",
       "max     325.950000   325.75000          2.919102e+07     55755.080000  "
      ]
     },
     "execution_count": 9,
     "metadata": {},
     "output_type": "execute_result"
    }
   ],
   "source": [
    "df.describe()"
   ]
  },
  {
   "cell_type": "markdown",
   "id": "dd253574",
   "metadata": {},
   "source": [
    "### Data Preprocessing"
   ]
  },
  {
   "cell_type": "code",
   "execution_count": 10,
   "id": "9d8d96bf",
   "metadata": {},
   "outputs": [
    {
     "data": {
      "text/plain": [
       "0       121.55\n",
       "1       120.90\n",
       "2       120.65\n",
       "3       117.60\n",
       "4       118.65\n",
       "         ...  \n",
       "2030    233.30\n",
       "2031    236.10\n",
       "2032    234.25\n",
       "2033    233.25\n",
       "2034    233.75\n",
       "Name: Close, Length: 2035, dtype: float64"
      ]
     },
     "execution_count": 10,
     "metadata": {},
     "output_type": "execute_result"
    }
   ],
   "source": [
    "close_prices = df['Close']\n",
    "close_prices"
   ]
  },
  {
   "cell_type": "code",
   "execution_count": 11,
   "id": "2eef6eaf",
   "metadata": {},
   "outputs": [
    {
     "data": {
      "image/png": "[encoded data removed]",
      "text/plain": [
       "<Figure size 640x480 with 1 Axes>"
      ]
     },
     "metadata": {},
     "output_type": "display_data"
    }
   ],
   "source": [
    "# Plot the close prices in blue with dashed line style\n",
    "plt.plot(close_prices, color='blue', linestyle='dashed')\n",
    "plt.title(\"Close Price Trend\")\n",
    "plt.xlabel(\"Time\")\n",
    "plt.ylabel(\"Close Prices\")\n",
    "plt.grid(True)  # Add grid lines for better visualization\n",
    "plt.show()\n"
   ]
  },
  {
   "cell_type": "markdown",
   "id": "06025a51",
   "metadata": {},
   "source": [
    "Since LSTM is sensitive to the scale of the data, we apply the MinMax scaler here to get the values in the range of 0-1"
   ]
  },
  {
   "cell_type": "code",
   "execution_count": 12,
   "id": "913e8d27",
   "metadata": {},
   "outputs": [
    {
     "data": {
      "text/plain": [
       "0       121.55\n",
       "1       120.90\n",
       "2       120.65\n",
       "3       117.60\n",
       "4       118.65\n",
       "         ...  \n",
       "2030    233.30\n",
       "2031    236.10\n",
       "2032    234.25\n",
       "2033    233.25\n",
       "2034    233.75\n",
       "Name: Close, Length: 2035, dtype: float64"
      ]
     },
     "execution_count": 12,
     "metadata": {},
     "output_type": "execute_result"
    }
   ],
   "source": [
    "close_prices"
   ]
  },
  {
   "cell_type": "code",
   "execution_count": 13,
   "id": "4b518834",
   "metadata": {},
   "outputs": [],
   "source": [
    "scaler = MinMaxScaler(feature_range=(0,1))\n",
    "close_prices = scaler.fit_transform(np.array(close_prices).reshape(-1,1))"
   ]
  },
  {
   "cell_type": "code",
   "execution_count": 14,
   "id": "76113826",
   "metadata": {},
   "outputs": [
    {
     "data": {
      "text/plain": [
       "array([[0.16584967],\n",
       "       [0.16319444],\n",
       "       [0.1621732 ],\n",
       "       ...,\n",
       "       [0.62622549],\n",
       "       [0.62214052],\n",
       "       [0.62418301]])"
      ]
     },
     "execution_count": 14,
     "metadata": {},
     "output_type": "execute_result"
    }
   ],
   "source": [
    "close_prices"
   ]
  },
  {
   "cell_type": "markdown",
   "id": "8fd14ec3",
   "metadata": {},
   "source": [
    "### Splitting the data into train and test sets"
   ]
  },
  {
   "cell_type": "code",
   "execution_count": 15,
   "id": "db582b0b",
   "metadata": {},
   "outputs": [
    {
     "data": {
      "text/plain": [
       "(1424, 611)"
      ]
     },
     "execution_count": 15,
     "metadata": {},
     "output_type": "execute_result"
    }
   ],
   "source": [
    "training_size = int(len(close_prices) * 0.7)\n",
    "testing_size = len(close_prices) - training_size\n",
    "training_size, testing_size"
   ]
  },
  {
   "cell_type": "code",
   "execution_count": 16,
   "id": "1139ef6c",
   "metadata": {},
   "outputs": [],
   "source": [
    "train_data = close_prices[0:training_size, :]\n",
    "test_data = close_prices[training_size:len(close_prices), :1]"
   ]
  },
  {
   "cell_type": "markdown",
   "id": "ec21cc17",
   "metadata": {},
   "source": [
    "Here, we are converting the given 1 dimensional into a matrix. Here, we choose a time_step, which decides the number of values to be used as input features. So, for a particular index i, **i to i + time_step-1** is taken as the input feature, and **i + time_step** is taken as the output."
   ]
  },
  {
   "cell_type": "code",
   "execution_count": 17,
   "id": "639fee2a",
   "metadata": {},
   "outputs": [],
   "source": [
    "import numpy\n",
    "# convert an array of values into a dataset matrix\n",
    "def create_dataset(dataset, time_step=1):\n",
    "    dataX, dataY = [], []\n",
    "    for i in range(len(dataset)-time_step-1):\n",
    "        a = dataset[i:(i+time_step), 0]   ### i = 0, 0,1,2,3-----99   100 \n",
    "        dataX.append(a)\n",
    "        dataY.append(dataset[i + time_step, 0])\n",
    "    return numpy.array(dataX), numpy.array(dataY)"
   ]
  },
  {
   "cell_type": "code",
   "execution_count": 18,
   "id": "b371588b",
   "metadata": {},
   "outputs": [],
   "source": [
    "# reshape into X=t,t+1,t+2,t+3 and Y=t+4\n",
    "time_step = 100\n",
    "X_train, y_train = create_dataset(train_data, time_step)\n",
    "X_test, y_test = create_dataset(test_data, time_step)"
   ]
  },
  {
   "cell_type": "code",
   "execution_count": 19,
   "id": "ac3c4f89",
   "metadata": {},
   "outputs": [
    {
     "data": {
      "text/plain": [
       "((1323, 100), (1323,))"
      ]
     },
     "execution_count": 19,
     "metadata": {},
     "output_type": "execute_result"
    }
   ],
   "source": [
    "X_train.shape, y_train.shape"
   ]
  },
  {
   "cell_type": "code",
   "execution_count": 20,
   "id": "fc4737bc",
   "metadata": {},
   "outputs": [
    {
     "data": {
      "text/plain": [
       "((510, 100), (510,))"
      ]
     },
     "execution_count": 20,
     "metadata": {},
     "output_type": "execute_result"
    }
   ],
   "source": [
    "X_test.shape, y_test.shape"
   ]
  },
  {
   "cell_type": "code",
   "execution_count": 21,
   "id": "526657e4",
   "metadata": {},
   "outputs": [],
   "source": [
    "# reshape input to be [samples, time steps, features] which is required for LSTM\n",
    "X_train =X_train.reshape(X_train.shape[0],X_train.shape[1] , 1)\n",
    "X_test = X_test.reshape(X_test.shape[0],X_test.shape[1] , 1)"
   ]
  },
  {
   "cell_type": "markdown",
   "id": "0d9466df",
   "metadata": {},
   "source": [
    "### Making the Stacked LSTM model\n",
    "\n",
    "LSTM excel due to their ability to retain important past information and discard irrelevant details. They consist of three types of gates: the input gate, which adds information to the cell state; the forget gate, responsible for removing unnecessary information; and the output gate, which selects relevant information for output.\n",
    "\n",
    "The model in this scenario was trained with the following configurations:\n",
    "\n",
    "1. Number of LSTM layers: 4\n",
    "2. Loss Function: Mean Square Error\n",
    "3. Optimizer: Adam\n",
    "4. Number of Epochs: 100\n",
    "5. Batch size: 64"
   ]
  },
  {
   "cell_type": "code",
   "execution_count": 22,
   "id": "1705a2bc",
   "metadata": {},
   "outputs": [],
   "source": [
    "from tensorflow.keras.models import Sequential\n",
    "from tensorflow.keras.layers import Dense\n",
    "from tensorflow.keras.layers import LSTM"
   ]
  },
  {
   "cell_type": "code",
   "execution_count": 23,
   "id": "fbe6cee6",
   "metadata": {},
   "outputs": [],
   "source": [
    "model=Sequential()\n",
    "model.add(LSTM(50,return_sequences=True,input_shape=(100,1)))\n",
    "model.add(LSTM(50,return_sequences=True))\n",
    "model.add(LSTM(50))\n",
    "model.add(Dense(1))\n",
    "model.compile(loss='mean_squared_error',optimizer='adam')"
   ]
  },
  {
   "cell_type": "code",
   "execution_count": 24,
   "id": "a23a3bda",
   "metadata": {},
   "outputs": [
    {
     "name": "stdout",
     "output_type": "stream",
     "text": [
      "Model: \"sequential\"\n",
      "_________________________________________________________________\n",
      " Layer (type)                Output Shape              Param #   \n",
      "=================================================================\n",
      " lstm (LSTM)                 (None, 100, 50)           10400     \n",
      "                                                                 \n",
      " lstm_1 (LSTM)               (None, 100, 50)           20200     \n",
      "                                                                 \n",
      " lstm_2 (LSTM)               (None, 50)                20200     \n",
      "                                                                 \n",
      " dense (Dense)               (None, 1)                 51        \n",
      "                                                                 \n",
      "=================================================================\n",
      "Total params: 50,851\n",
      "Trainable params: 50,851\n",
      "Non-trainable params: 0\n",
      "_________________________________________________________________\n"
     ]
    }
   ],
   "source": [
    "model.summary()"
   ]
  },
  {
   "cell_type": "code",
   "execution_count": 25,
   "id": "bc3877ac",
   "metadata": {},
   "outputs": [
    {
     "name": "stdout",
     "output_type": "stream",
     "text": [
      "Epoch 1/100\n",
      "21/21 [==============================] - 14s 385ms/step - loss: 0.0068 - val_loss: 0.0095\n",
      "Epoch 2/100\n",
      "21/21 [==============================] - 5s 234ms/step - loss: 0.0014 - val_loss: 0.0064\n",
      "Epoch 3/100\n",
      "21/21 [==============================] - 7s 320ms/step - loss: 9.9227e-04 - val_loss: 0.0032\n",
      "Epoch 4/100\n",
      "21/21 [==============================] - 6s 263ms/step - loss: 8.9382e-04 - val_loss: 0.0047\n",
      "Epoch 5/100\n",
      "21/21 [==============================] - 5s 258ms/step - loss: 8.3781e-04 - val_loss: 0.0052\n",
      "Epoch 6/100\n",
      "21/21 [==============================] - 5s 225ms/step - loss: 8.1778e-04 - val_loss: 0.0048\n",
      "Epoch 7/100\n",
      "21/21 [==============================] - 5s 239ms/step - loss: 7.9347e-04 - val_loss: 0.0044\n",
      "Epoch 8/100\n",
      "21/21 [==============================] - 5s 258ms/step - loss: 7.6053e-04 - val_loss: 0.0038\n",
      "Epoch 9/100\n",
      "21/21 [==============================] - 5s 237ms/step - loss: 7.1736e-04 - val_loss: 0.0040\n",
      "Epoch 10/100\n",
      "21/21 [==============================] - 5s 224ms/step - loss: 7.1110e-04 - val_loss: 0.0031\n",
      "Epoch 11/100\n",
      "21/21 [==============================] - 5s 224ms/step - loss: 6.9245e-04 - val_loss: 0.0060\n",
      "Epoch 12/100\n",
      "21/21 [==============================] - 5s 224ms/step - loss: 7.4675e-04 - val_loss: 0.0025\n",
      "Epoch 13/100\n",
      "21/21 [==============================] - 5s 231ms/step - loss: 6.6251e-04 - val_loss: 0.0061\n",
      "Epoch 14/100\n",
      "21/21 [==============================] - 5s 225ms/step - loss: 6.2759e-04 - val_loss: 0.0038\n",
      "Epoch 15/100\n",
      "21/21 [==============================] - 5s 228ms/step - loss: 6.6058e-04 - val_loss: 0.0066\n",
      "Epoch 16/100\n",
      "21/21 [==============================] - 5s 234ms/step - loss: 5.9247e-04 - val_loss: 0.0067\n",
      "Epoch 17/100\n",
      "21/21 [==============================] - 5s 225ms/step - loss: 5.6558e-04 - val_loss: 0.0054\n",
      "Epoch 18/100\n",
      "21/21 [==============================] - 5s 225ms/step - loss: 5.4162e-04 - val_loss: 0.0075\n",
      "Epoch 19/100\n",
      "21/21 [==============================] - 5s 226ms/step - loss: 5.1849e-04 - val_loss: 0.0049\n",
      "Epoch 20/100\n",
      "21/21 [==============================] - 5s 225ms/step - loss: 5.2273e-04 - val_loss: 0.0046\n",
      "Epoch 21/100\n",
      "21/21 [==============================] - 5s 234ms/step - loss: 4.8996e-04 - val_loss: 0.0076\n",
      "Epoch 22/100\n",
      "21/21 [==============================] - 5s 226ms/step - loss: 4.7700e-04 - val_loss: 0.0056\n",
      "Epoch 23/100\n",
      "21/21 [==============================] - 5s 227ms/step - loss: 4.8318e-04 - val_loss: 0.0078\n",
      "Epoch 24/100\n",
      "21/21 [==============================] - 5s 225ms/step - loss: 5.2619e-04 - val_loss: 0.0034\n",
      "Epoch 25/100\n",
      "21/21 [==============================] - 5s 224ms/step - loss: 4.4841e-04 - val_loss: 0.0039\n",
      "Epoch 26/100\n",
      "21/21 [==============================] - 5s 225ms/step - loss: 4.6051e-04 - val_loss: 0.0050\n",
      "Epoch 27/100\n",
      "21/21 [==============================] - 5s 225ms/step - loss: 4.1019e-04 - val_loss: 0.0038\n",
      "Epoch 28/100\n",
      "21/21 [==============================] - 5s 227ms/step - loss: 4.0065e-04 - val_loss: 0.0029\n",
      "Epoch 29/100\n",
      "21/21 [==============================] - 5s 231ms/step - loss: 3.7837e-04 - val_loss: 0.0030\n",
      "Epoch 30/100\n",
      "21/21 [==============================] - 5s 231ms/step - loss: 3.6487e-04 - val_loss: 0.0038\n",
      "Epoch 31/100\n",
      "21/21 [==============================] - 5s 225ms/step - loss: 3.3898e-04 - val_loss: 0.0042\n",
      "Epoch 32/100\n",
      "21/21 [==============================] - 5s 225ms/step - loss: 3.3654e-04 - val_loss: 0.0032\n",
      "Epoch 33/100\n",
      "21/21 [==============================] - 5s 224ms/step - loss: 3.3063e-04 - val_loss: 0.0023\n",
      "Epoch 34/100\n",
      "21/21 [==============================] - 5s 227ms/step - loss: 3.1614e-04 - val_loss: 0.0025\n",
      "Epoch 35/100\n",
      "21/21 [==============================] - 5s 233ms/step - loss: 2.8769e-04 - val_loss: 0.0029\n",
      "Epoch 36/100\n",
      "21/21 [==============================] - 5s 226ms/step - loss: 2.7294e-04 - val_loss: 0.0024\n",
      "Epoch 37/100\n",
      "21/21 [==============================] - 5s 226ms/step - loss: 2.6762e-04 - val_loss: 0.0026\n",
      "Epoch 38/100\n",
      "21/21 [==============================] - 5s 229ms/step - loss: 2.5298e-04 - val_loss: 0.0028\n",
      "Epoch 39/100\n",
      "21/21 [==============================] - 5s 227ms/step - loss: 2.4791e-04 - val_loss: 0.0023\n",
      "Epoch 40/100\n",
      "21/21 [==============================] - 5s 230ms/step - loss: 2.4448e-04 - val_loss: 0.0019\n",
      "Epoch 41/100\n",
      "21/21 [==============================] - 5s 229ms/step - loss: 2.3396e-04 - val_loss: 0.0016\n",
      "Epoch 42/100\n",
      "21/21 [==============================] - 5s 229ms/step - loss: 2.2243e-04 - val_loss: 0.0016\n",
      "Epoch 43/100\n",
      "21/21 [==============================] - 5s 237ms/step - loss: 2.2271e-04 - val_loss: 0.0015\n",
      "Epoch 44/100\n",
      "21/21 [==============================] - 5s 236ms/step - loss: 2.0556e-04 - val_loss: 0.0012\n",
      "Epoch 45/100\n",
      "21/21 [==============================] - 5s 229ms/step - loss: 1.9925e-04 - val_loss: 8.8775e-04\n",
      "Epoch 46/100\n",
      "21/21 [==============================] - 5s 231ms/step - loss: 2.0402e-04 - val_loss: 0.0012\n",
      "Epoch 47/100\n",
      "21/21 [==============================] - 5s 231ms/step - loss: 1.9120e-04 - val_loss: 9.7483e-04\n",
      "Epoch 48/100\n",
      "21/21 [==============================] - 5s 238ms/step - loss: 1.8973e-04 - val_loss: 8.4308e-04\n",
      "Epoch 49/100\n",
      "21/21 [==============================] - 5s 239ms/step - loss: 2.1420e-04 - val_loss: 9.4350e-04\n",
      "Epoch 50/100\n",
      "21/21 [==============================] - 5s 232ms/step - loss: 1.7301e-04 - val_loss: 6.3072e-04\n",
      "Epoch 51/100\n",
      "21/21 [==============================] - 5s 232ms/step - loss: 1.7289e-04 - val_loss: 4.5403e-04\n",
      "Epoch 52/100\n",
      "21/21 [==============================] - 5s 235ms/step - loss: 1.7448e-04 - val_loss: 5.6980e-04\n",
      "Epoch 53/100\n",
      "21/21 [==============================] - 5s 236ms/step - loss: 1.7076e-04 - val_loss: 8.8192e-04\n",
      "Epoch 54/100\n",
      "21/21 [==============================] - 5s 233ms/step - loss: 1.5439e-04 - val_loss: 6.5473e-04\n",
      "Epoch 55/100\n",
      "21/21 [==============================] - 5s 235ms/step - loss: 1.8922e-04 - val_loss: 5.2164e-04\n",
      "Epoch 56/100\n",
      "21/21 [==============================] - 5s 261ms/step - loss: 1.9198e-04 - val_loss: 0.0021\n",
      "Epoch 57/100\n",
      "21/21 [==============================] - 5s 243ms/step - loss: 1.8138e-04 - val_loss: 0.0011\n",
      "Epoch 58/100\n",
      "21/21 [==============================] - 5s 236ms/step - loss: 1.5090e-04 - val_loss: 9.1921e-04\n",
      "Epoch 59/100\n",
      "21/21 [==============================] - 5s 241ms/step - loss: 1.4820e-04 - val_loss: 0.0010\n",
      "Epoch 60/100\n",
      "21/21 [==============================] - 5s 239ms/step - loss: 1.4562e-04 - val_loss: 4.5029e-04\n",
      "Epoch 61/100\n",
      "21/21 [==============================] - 5s 261ms/step - loss: 1.4884e-04 - val_loss: 0.0014\n",
      "Epoch 62/100\n",
      "21/21 [==============================] - 6s 279ms/step - loss: 1.5024e-04 - val_loss: 0.0013\n",
      "Epoch 63/100\n",
      "21/21 [==============================] - 5s 256ms/step - loss: 1.8532e-04 - val_loss: 6.1215e-04\n",
      "Epoch 64/100\n",
      "21/21 [==============================] - 7s 323ms/step - loss: 1.3810e-04 - val_loss: 5.4115e-04\n",
      "Epoch 65/100\n",
      "21/21 [==============================] - 6s 299ms/step - loss: 1.4211e-04 - val_loss: 0.0014\n",
      "Epoch 66/100\n",
      "21/21 [==============================] - 6s 274ms/step - loss: 1.6268e-04 - val_loss: 5.3610e-04\n",
      "Epoch 67/100\n",
      "21/21 [==============================] - 6s 272ms/step - loss: 1.6651e-04 - val_loss: 6.0276e-04\n",
      "Epoch 68/100\n",
      "21/21 [==============================] - 6s 279ms/step - loss: 1.6044e-04 - val_loss: 8.2622e-04\n",
      "Epoch 69/100\n",
      "21/21 [==============================] - 6s 283ms/step - loss: 1.4439e-04 - val_loss: 0.0013\n",
      "Epoch 70/100\n",
      "21/21 [==============================] - 6s 274ms/step - loss: 1.3980e-04 - val_loss: 9.3493e-04\n",
      "Epoch 71/100\n",
      "21/21 [==============================] - 6s 274ms/step - loss: 1.2974e-04 - val_loss: 6.6744e-04\n",
      "Epoch 72/100\n",
      "21/21 [==============================] - 10s 478ms/step - loss: 1.3405e-04 - val_loss: 7.3716e-04\n",
      "Epoch 73/100\n",
      "21/21 [==============================] - 7s 341ms/step - loss: 1.3013e-04 - val_loss: 8.6781e-04\n",
      "Epoch 74/100\n",
      "21/21 [==============================] - 6s 304ms/step - loss: 1.2832e-04 - val_loss: 0.0014\n",
      "Epoch 75/100\n",
      "21/21 [==============================] - 6s 302ms/step - loss: 1.4654e-04 - val_loss: 9.8141e-04\n",
      "Epoch 76/100\n",
      "21/21 [==============================] - 6s 300ms/step - loss: 1.5087e-04 - val_loss: 9.0932e-04\n",
      "Epoch 77/100\n",
      "21/21 [==============================] - 6s 283ms/step - loss: 1.3912e-04 - val_loss: 7.0152e-04\n",
      "Epoch 78/100\n",
      "21/21 [==============================] - 8s 369ms/step - loss: 1.4674e-04 - val_loss: 8.2319e-04\n",
      "Epoch 79/100\n",
      "21/21 [==============================] - 8s 411ms/step - loss: 1.5386e-04 - val_loss: 0.0015\n",
      "Epoch 80/100\n",
      "21/21 [==============================] - 8s 380ms/step - loss: 1.3637e-04 - val_loss: 0.0014\n",
      "Epoch 81/100\n",
      "21/21 [==============================] - 18s 835ms/step - loss: 1.5067e-04 - val_loss: 0.0015\n",
      "Epoch 82/100\n",
      "21/21 [==============================] - 7s 351ms/step - loss: 1.4141e-04 - val_loss: 7.1838e-04\n",
      "Epoch 83/100\n",
      "21/21 [==============================] - 7s 313ms/step - loss: 1.5112e-04 - val_loss: 8.1283e-04\n",
      "Epoch 84/100\n",
      "21/21 [==============================] - 6s 301ms/step - loss: 1.4520e-04 - val_loss: 0.0010\n",
      "Epoch 85/100\n",
      "21/21 [==============================] - 6s 292ms/step - loss: 1.3718e-04 - val_loss: 0.0011\n",
      "Epoch 86/100\n",
      "21/21 [==============================] - 7s 333ms/step - loss: 1.2940e-04 - val_loss: 8.2204e-04\n",
      "Epoch 87/100\n",
      "21/21 [==============================] - 6s 296ms/step - loss: 1.2724e-04 - val_loss: 7.7875e-04\n",
      "Epoch 88/100\n",
      "21/21 [==============================] - 6s 292ms/step - loss: 1.3932e-04 - val_loss: 0.0012\n",
      "Epoch 89/100\n",
      "21/21 [==============================] - 6s 291ms/step - loss: 1.4947e-04 - val_loss: 0.0012\n",
      "Epoch 90/100\n",
      "21/21 [==============================] - 7s 322ms/step - loss: 1.3428e-04 - val_loss: 8.6777e-04\n",
      "Epoch 91/100\n",
      "21/21 [==============================] - 6s 286ms/step - loss: 1.4103e-04 - val_loss: 0.0018\n",
      "Epoch 92/100\n",
      "21/21 [==============================] - 6s 286ms/step - loss: 1.2933e-04 - val_loss: 0.0010\n",
      "Epoch 93/100\n",
      "21/21 [==============================] - 6s 286ms/step - loss: 1.2721e-04 - val_loss: 0.0012\n",
      "Epoch 94/100\n",
      "21/21 [==============================] - 6s 288ms/step - loss: 1.3571e-04 - val_loss: 0.0010\n",
      "Epoch 95/100\n",
      "21/21 [==============================] - 6s 287ms/step - loss: 1.2735e-04 - val_loss: 0.0012\n",
      "Epoch 96/100\n",
      "21/21 [==============================] - 6s 287ms/step - loss: 1.3694e-04 - val_loss: 0.0014\n",
      "Epoch 97/100\n",
      "21/21 [==============================] - 6s 301ms/step - loss: 1.3911e-04 - val_loss: 0.0016\n",
      "Epoch 98/100\n",
      "21/21 [==============================] - 6s 290ms/step - loss: 1.4126e-04 - val_loss: 0.0014\n",
      "Epoch 99/100\n",
      "21/21 [==============================] - 6s 309ms/step - loss: 1.3137e-04 - val_loss: 0.0011\n",
      "Epoch 100/100\n",
      "21/21 [==============================] - 6s 289ms/step - loss: 1.3647e-04 - val_loss: 0.0012\n"
     ]
    },
    {
     "data": {
      "text/plain": [
       "<keras.callbacks.History at 0x226600af7c0>"
      ]
     },
     "execution_count": 25,
     "metadata": {},
     "output_type": "execute_result"
    }
   ],
   "source": [
    "model.fit(X_train,y_train,validation_data=(X_test,y_test),epochs=100,batch_size=64,verbose=1)"
   ]
  },
  {
   "cell_type": "code",
   "execution_count": 26,
   "id": "281e639d",
   "metadata": {},
   "outputs": [
    {
     "data": {
      "text/plain": [
       "'2.12.0'"
      ]
     },
     "execution_count": 26,
     "metadata": {},
     "output_type": "execute_result"
    }
   ],
   "source": [
    "import tensorflow as tf\n",
    "tf.__version__"
   ]
  },
  {
   "cell_type": "code",
   "execution_count": 27,
   "id": "7b6564a8",
   "metadata": {},
   "outputs": [
    {
     "name": "stdout",
     "output_type": "stream",
     "text": [
      "42/42 [==============================] - 5s 81ms/step\n",
      "16/16 [==============================] - 1s 60ms/step\n"
     ]
    }
   ],
   "source": [
    "train_predict=model.predict(X_train)\n",
    "test_predict=model.predict(X_test)"
   ]
  },
  {
   "cell_type": "markdown",
   "id": "ee73dabe",
   "metadata": {},
   "source": [
    "Inverse transform is done to convert the data back to its original form"
   ]
  },
  {
   "cell_type": "code",
   "execution_count": 28,
   "id": "b0420a52",
   "metadata": {},
   "outputs": [],
   "source": [
    "train_predict = scaler.inverse_transform(train_predict)\n",
    "test_predict = scaler.inverse_transform(test_predict)"
   ]
  },
  {
   "cell_type": "markdown",
   "id": "01b0938a",
   "metadata": {},
   "source": [
    "### Calculate RMSE performance metrics"
   ]
  },
  {
   "cell_type": "code",
   "execution_count": 29,
   "id": "596658fd",
   "metadata": {},
   "outputs": [],
   "source": [
    "import math\n",
    "from sklearn.metrics import mean_squared_error"
   ]
  },
  {
   "cell_type": "code",
   "execution_count": 30,
   "id": "f9c72f26",
   "metadata": {},
   "outputs": [
    {
     "data": {
      "text/plain": [
       "133.46022811632233"
      ]
     },
     "execution_count": 30,
     "metadata": {},
     "output_type": "execute_result"
    }
   ],
   "source": [
    "math.sqrt(mean_squared_error(y_train,train_predict))"
   ]
  },
  {
   "cell_type": "code",
   "execution_count": 31,
   "id": "dc8994a9",
   "metadata": {
    "scrolled": true
   },
   "outputs": [
    {
     "data": {
      "text/plain": [
       "208.0594215724487"
      ]
     },
     "execution_count": 31,
     "metadata": {},
     "output_type": "execute_result"
    }
   ],
   "source": [
    "math.sqrt(mean_squared_error(y_test,test_predict))"
   ]
  },
  {
   "cell_type": "markdown",
   "id": "350a9c95",
   "metadata": {},
   "source": [
    "### Plotting"
   ]
  },
  {
   "cell_type": "code",
   "execution_count": 33,
   "id": "f00c7c5a",
   "metadata": {},
   "outputs": [
    {
     "data": {
      "image/png": "[encoded data removed]",
      "text/plain": [
       "<Figure size 1000x600 with 1 Axes>"
      ]
     },
     "metadata": {},
     "output_type": "display_data"
    }
   ],
   "source": [
    "# Define look_back here\n",
    "look_back = 100\n",
    "\n",
    "# Plot baseline and predictions\n",
    "plt.figure(figsize=(10, 6))\n",
    "\n",
    "# Plot the actual close prices in green\n",
    "plt.plot(scaler.inverse_transform(close_prices), color='green', label='Actual Close Prices')\n",
    "\n",
    "# Plot the train predictions in orange\n",
    "trainPredictPlot = np.empty_like(close_prices)\n",
    "trainPredictPlot[:, :] = np.nan\n",
    "trainPredictPlot[look_back:len(train_predict) + look_back, :] = train_predict\n",
    "plt.plot(trainPredictPlot, color='orange', label='Train Predictions')\n",
    "\n",
    "# Plot the test predictions in blue\n",
    "testPredictPlot = np.empty_like(close_prices)\n",
    "testPredictPlot[:, :] = np.nan\n",
    "testPredictPlot[len(train_predict) + (look_back * 2) + 1:len(close_prices) - 1, :] = test_predict\n",
    "plt.plot(testPredictPlot, color='blue', label='Test Predictions')\n",
    "\n",
    "plt.legend()\n",
    "plt.show()\n",
    "\n"
   ]
  },
  {
   "cell_type": "code",
   "execution_count": 34,
   "id": "803e31f7",
   "metadata": {
    "scrolled": true
   },
   "outputs": [
    {
     "data": {
      "text/plain": [
       "611"
      ]
     },
     "execution_count": 34,
     "metadata": {},
     "output_type": "execute_result"
    }
   ],
   "source": [
    "len(test_data)"
   ]
  },
  {
   "cell_type": "markdown",
   "id": "996d85c5",
   "metadata": {},
   "source": [
    "Now we need to predict the value for 30 days into the future.\n",
    "Here, we take the last 100 values, which would be used as input for calculating the output for the next day."
   ]
  },
  {
   "cell_type": "code",
   "execution_count": 35,
   "id": "1b9c9863",
   "metadata": {},
   "outputs": [
    {
     "data": {
      "text/plain": [
       "(1, 100)"
      ]
     },
     "execution_count": 35,
     "metadata": {},
     "output_type": "execute_result"
    }
   ],
   "source": [
    "x_input=test_data[511:].reshape(1,-1)\n",
    "x_input.shape"
   ]
  },
  {
   "cell_type": "code",
   "execution_count": 36,
   "id": "5b8a0096",
   "metadata": {},
   "outputs": [],
   "source": [
    "# converting to list\n",
    "temp_input=list(x_input)\n",
    "temp_input=temp_input[0].tolist()"
   ]
  },
  {
   "cell_type": "markdown",
   "id": "1360b671",
   "metadata": {},
   "source": [
    "### Prediction for next 30 days"
   ]
  },
  {
   "cell_type": "code",
   "execution_count": 37,
   "id": "5d080389",
   "metadata": {},
   "outputs": [
    {
     "name": "stdout",
     "output_type": "stream",
     "text": [
      "[0.6062]\n",
      "101\n",
      "1 day input [0.86213235 0.83455882 0.84375    0.71466503 0.66053922 0.65420752\n",
      " 0.68035131 0.6689134  0.66421569 0.67892157 0.69138072 0.70894608\n",
      " 0.72263072 0.73406863 0.72120098 0.74979575 0.7689951  0.74468954\n",
      " 0.7120098  0.74673203 0.75490196 0.76041667 0.75980392 0.74652778\n",
      " 0.76245915 0.77062908 0.80412582 0.78104575 0.79411765 0.76021242\n",
      " 0.73488562 0.72406046 0.73999183 0.74979575 0.76143791 0.75428922\n",
      " 0.74754902 0.76960784 0.7495915  0.81719771 0.80208333 0.77736928\n",
      " 0.75714869 0.79370915 0.79166667 0.77144608 0.75265523 0.72691993\n",
      " 0.6629902  0.68198529 0.64419935 0.62152778 0.6439951  0.66319444\n",
      " 0.67544935 0.63705065 0.64603758 0.65890523 0.65870098 0.67790033\n",
      " 0.63194444 0.63112745 0.62785948 0.64767157 0.63991013 0.63480392\n",
      " 0.63868464 0.62336601 0.62745098 0.63970588 0.64705882 0.66196895\n",
      " 0.67075163 0.65196078 0.63112745 0.61294935 0.6376634  0.62254902\n",
      " 0.62745098 0.63337418 0.62642974 0.63623366 0.58312908 0.57781863\n",
      " 0.57230392 0.58006536 0.57618464 0.55167484 0.57883987 0.625\n",
      " 0.63582516 0.62949346 0.62888072 0.62765523 0.62234477 0.63378268\n",
      " 0.62622549 0.62214052 0.62418301 0.60619998]\n",
      "1 day output [[0.57517725]]\n",
      "2 day input [0.83455882 0.84375    0.71466503 0.66053922 0.65420752 0.68035131\n",
      " 0.6689134  0.66421569 0.67892157 0.69138072 0.70894608 0.72263072\n",
      " 0.73406863 0.72120098 0.74979575 0.7689951  0.74468954 0.7120098\n",
      " 0.74673203 0.75490196 0.76041667 0.75980392 0.74652778 0.76245915\n",
      " 0.77062908 0.80412582 0.78104575 0.79411765 0.76021242 0.73488562\n",
      " 0.72406046 0.73999183 0.74979575 0.76143791 0.75428922 0.74754902\n",
      " 0.76960784 0.7495915  0.81719771 0.80208333 0.77736928 0.75714869\n",
      " 0.79370915 0.79166667 0.77144608 0.75265523 0.72691993 0.6629902\n",
      " 0.68198529 0.64419935 0.62152778 0.6439951  0.66319444 0.67544935\n",
      " 0.63705065 0.64603758 0.65890523 0.65870098 0.67790033 0.63194444\n",
      " 0.63112745 0.62785948 0.64767157 0.63991013 0.63480392 0.63868464\n",
      " 0.62336601 0.62745098 0.63970588 0.64705882 0.66196895 0.67075163\n",
      " 0.65196078 0.63112745 0.61294935 0.6376634  0.62254902 0.62745098\n",
      " 0.63337418 0.62642974 0.63623366 0.58312908 0.57781863 0.57230392\n",
      " 0.58006536 0.57618464 0.55167484 0.57883987 0.625      0.63582516\n",
      " 0.62949346 0.62888072 0.62765523 0.62234477 0.63378268 0.62622549\n",
      " 0.62214052 0.62418301 0.60619998 0.57517725]\n",
      "2 day output [[0.5460187]]\n",
      "3 day input [0.84375    0.71466503 0.66053922 0.65420752 0.68035131 0.6689134\n",
      " 0.66421569 0.67892157 0.69138072 0.70894608 0.72263072 0.73406863\n",
      " 0.72120098 0.74979575 0.7689951  0.74468954 0.7120098  0.74673203\n",
      " 0.75490196 0.76041667 0.75980392 0.74652778 0.76245915 0.77062908\n",
      " 0.80412582 0.78104575 0.79411765 0.76021242 0.73488562 0.72406046\n",
      " 0.73999183 0.74979575 0.76143791 0.75428922 0.74754902 0.76960784\n",
      " 0.7495915  0.81719771 0.80208333 0.77736928 0.75714869 0.79370915\n",
      " 0.79166667 0.77144608 0.75265523 0.72691993 0.6629902  0.68198529\n",
      " 0.64419935 0.62152778 0.6439951  0.66319444 0.67544935 0.63705065\n",
      " 0.64603758 0.65890523 0.65870098 0.67790033 0.63194444 0.63112745\n",
      " 0.62785948 0.64767157 0.63991013 0.63480392 0.63868464 0.62336601\n",
      " 0.62745098 0.63970588 0.64705882 0.66196895 0.67075163 0.65196078\n",
      " 0.63112745 0.61294935 0.6376634  0.62254902 0.62745098 0.63337418\n",
      " 0.62642974 0.63623366 0.58312908 0.57781863 0.57230392 0.58006536\n",
      " 0.57618464 0.55167484 0.57883987 0.625      0.63582516 0.62949346\n",
      " 0.62888072 0.62765523 0.62234477 0.63378268 0.62622549 0.62214052\n",
      " 0.62418301 0.60619998 0.57517725 0.54601872]\n",
      "3 day output [[0.5237329]]\n",
      "4 day input [0.71466503 0.66053922 0.65420752 0.68035131 0.6689134  0.66421569\n",
      " 0.67892157 0.69138072 0.70894608 0.72263072 0.73406863 0.72120098\n",
      " 0.74979575 0.7689951  0.74468954 0.7120098  0.74673203 0.75490196\n",
      " 0.76041667 0.75980392 0.74652778 0.76245915 0.77062908 0.80412582\n",
      " 0.78104575 0.79411765 0.76021242 0.73488562 0.72406046 0.73999183\n",
      " 0.74979575 0.76143791 0.75428922 0.74754902 0.76960784 0.7495915\n",
      " 0.81719771 0.80208333 0.77736928 0.75714869 0.79370915 0.79166667\n",
      " 0.77144608 0.75265523 0.72691993 0.6629902  0.68198529 0.64419935\n",
      " 0.62152778 0.6439951  0.66319444 0.67544935 0.63705065 0.64603758\n",
      " 0.65890523 0.65870098 0.67790033 0.63194444 0.63112745 0.62785948\n",
      " 0.64767157 0.63991013 0.63480392 0.63868464 0.62336601 0.62745098\n",
      " 0.63970588 0.64705882 0.66196895 0.67075163 0.65196078 0.63112745\n",
      " 0.61294935 0.6376634  0.62254902 0.62745098 0.63337418 0.62642974\n",
      " 0.63623366 0.58312908 0.57781863 0.57230392 0.58006536 0.57618464\n",
      " 0.55167484 0.57883987 0.625      0.63582516 0.62949346 0.62888072\n",
      " 0.62765523 0.62234477 0.63378268 0.62622549 0.62214052 0.62418301\n",
      " 0.60619998 0.57517725 0.54601872 0.5237329 ]\n",
      "4 day output [[0.5065117]]\n",
      "5 day input [0.66053922 0.65420752 0.68035131 0.6689134  0.66421569 0.67892157\n",
      " 0.69138072 0.70894608 0.72263072 0.73406863 0.72120098 0.74979575\n",
      " 0.7689951  0.74468954 0.7120098  0.74673203 0.75490196 0.76041667\n",
      " 0.75980392 0.74652778 0.76245915 0.77062908 0.80412582 0.78104575\n",
      " 0.79411765 0.76021242 0.73488562 0.72406046 0.73999183 0.74979575\n",
      " 0.76143791 0.75428922 0.74754902 0.76960784 0.7495915  0.81719771\n",
      " 0.80208333 0.77736928 0.75714869 0.79370915 0.79166667 0.77144608\n",
      " 0.75265523 0.72691993 0.6629902  0.68198529 0.64419935 0.62152778\n",
      " 0.6439951  0.66319444 0.67544935 0.63705065 0.64603758 0.65890523\n",
      " 0.65870098 0.67790033 0.63194444 0.63112745 0.62785948 0.64767157\n",
      " 0.63991013 0.63480392 0.63868464 0.62336601 0.62745098 0.63970588\n",
      " 0.64705882 0.66196895 0.67075163 0.65196078 0.63112745 0.61294935\n",
      " 0.6376634  0.62254902 0.62745098 0.63337418 0.62642974 0.63623366\n",
      " 0.58312908 0.57781863 0.57230392 0.58006536 0.57618464 0.55167484\n",
      " 0.57883987 0.625      0.63582516 0.62949346 0.62888072 0.62765523\n",
      " 0.62234477 0.63378268 0.62622549 0.62214052 0.62418301 0.60619998\n",
      " 0.57517725 0.54601872 0.5237329  0.50651169]\n",
      "5 day output [[0.49142575]]\n",
      "6 day input [0.65420752 0.68035131 0.6689134  0.66421569 0.67892157 0.69138072\n",
      " 0.70894608 0.72263072 0.73406863 0.72120098 0.74979575 0.7689951\n",
      " 0.74468954 0.7120098  0.74673203 0.75490196 0.76041667 0.75980392\n",
      " 0.74652778 0.76245915 0.77062908 0.80412582 0.78104575 0.79411765\n",
      " 0.76021242 0.73488562 0.72406046 0.73999183 0.74979575 0.76143791\n",
      " 0.75428922 0.74754902 0.76960784 0.7495915  0.81719771 0.80208333\n",
      " 0.77736928 0.75714869 0.79370915 0.79166667 0.77144608 0.75265523\n",
      " 0.72691993 0.6629902  0.68198529 0.64419935 0.62152778 0.6439951\n",
      " 0.66319444 0.67544935 0.63705065 0.64603758 0.65890523 0.65870098\n",
      " 0.67790033 0.63194444 0.63112745 0.62785948 0.64767157 0.63991013\n",
      " 0.63480392 0.63868464 0.62336601 0.62745098 0.63970588 0.64705882\n",
      " 0.66196895 0.67075163 0.65196078 0.63112745 0.61294935 0.6376634\n",
      " 0.62254902 0.62745098 0.63337418 0.62642974 0.63623366 0.58312908\n",
      " 0.57781863 0.57230392 0.58006536 0.57618464 0.55167484 0.57883987\n",
      " 0.625      0.63582516 0.62949346 0.62888072 0.62765523 0.62234477\n",
      " 0.63378268 0.62622549 0.62214052 0.62418301 0.60619998 0.57517725\n",
      " 0.54601872 0.5237329  0.50651169 0.49142575]\n",
      "6 day output [[0.47694394]]\n",
      "7 day input [0.68035131 0.6689134  0.66421569 0.67892157 0.69138072 0.70894608\n",
      " 0.72263072 0.73406863 0.72120098 0.74979575 0.7689951  0.74468954\n",
      " 0.7120098  0.74673203 0.75490196 0.76041667 0.75980392 0.74652778\n",
      " 0.76245915 0.77062908 0.80412582 0.78104575 0.79411765 0.76021242\n",
      " 0.73488562 0.72406046 0.73999183 0.74979575 0.76143791 0.75428922\n",
      " 0.74754902 0.76960784 0.7495915  0.81719771 0.80208333 0.77736928\n",
      " 0.75714869 0.79370915 0.79166667 0.77144608 0.75265523 0.72691993\n",
      " 0.6629902  0.68198529 0.64419935 0.62152778 0.6439951  0.66319444\n",
      " 0.67544935 0.63705065 0.64603758 0.65890523 0.65870098 0.67790033\n",
      " 0.63194444 0.63112745 0.62785948 0.64767157 0.63991013 0.63480392\n",
      " 0.63868464 0.62336601 0.62745098 0.63970588 0.64705882 0.66196895\n",
      " 0.67075163 0.65196078 0.63112745 0.61294935 0.6376634  0.62254902\n",
      " 0.62745098 0.63337418 0.62642974 0.63623366 0.58312908 0.57781863\n",
      " 0.57230392 0.58006536 0.57618464 0.55167484 0.57883987 0.625\n",
      " 0.63582516 0.62949346 0.62888072 0.62765523 0.62234477 0.63378268\n",
      " 0.62622549 0.62214052 0.62418301 0.60619998 0.57517725 0.54601872\n",
      " 0.5237329  0.50651169 0.49142575 0.47694394]\n",
      "7 day output [[0.46292585]]\n",
      "8 day input [0.6689134  0.66421569 0.67892157 0.69138072 0.70894608 0.72263072\n",
      " 0.73406863 0.72120098 0.74979575 0.7689951  0.74468954 0.7120098\n",
      " 0.74673203 0.75490196 0.76041667 0.75980392 0.74652778 0.76245915\n",
      " 0.77062908 0.80412582 0.78104575 0.79411765 0.76021242 0.73488562\n",
      " 0.72406046 0.73999183 0.74979575 0.76143791 0.75428922 0.74754902\n",
      " 0.76960784 0.7495915  0.81719771 0.80208333 0.77736928 0.75714869\n",
      " 0.79370915 0.79166667 0.77144608 0.75265523 0.72691993 0.6629902\n",
      " 0.68198529 0.64419935 0.62152778 0.6439951  0.66319444 0.67544935\n",
      " 0.63705065 0.64603758 0.65890523 0.65870098 0.67790033 0.63194444\n",
      " 0.63112745 0.62785948 0.64767157 0.63991013 0.63480392 0.63868464\n",
      " 0.62336601 0.62745098 0.63970588 0.64705882 0.66196895 0.67075163\n",
      " 0.65196078 0.63112745 0.61294935 0.6376634  0.62254902 0.62745098\n",
      " 0.63337418 0.62642974 0.63623366 0.58312908 0.57781863 0.57230392\n",
      " 0.58006536 0.57618464 0.55167484 0.57883987 0.625      0.63582516\n",
      " 0.62949346 0.62888072 0.62765523 0.62234477 0.63378268 0.62622549\n",
      " 0.62214052 0.62418301 0.60619998 0.57517725 0.54601872 0.5237329\n",
      " 0.50651169 0.49142575 0.47694394 0.46292585]\n",
      "8 day output [[0.44980228]]\n",
      "9 day input [0.66421569 0.67892157 0.69138072 0.70894608 0.72263072 0.73406863\n",
      " 0.72120098 0.74979575 0.7689951  0.74468954 0.7120098  0.74673203\n",
      " 0.75490196 0.76041667 0.75980392 0.74652778 0.76245915 0.77062908\n",
      " 0.80412582 0.78104575 0.79411765 0.76021242 0.73488562 0.72406046\n",
      " 0.73999183 0.74979575 0.76143791 0.75428922 0.74754902 0.76960784\n",
      " 0.7495915  0.81719771 0.80208333 0.77736928 0.75714869 0.79370915\n",
      " 0.79166667 0.77144608 0.75265523 0.72691993 0.6629902  0.68198529\n",
      " 0.64419935 0.62152778 0.6439951  0.66319444 0.67544935 0.63705065\n",
      " 0.64603758 0.65890523 0.65870098 0.67790033 0.63194444 0.63112745\n",
      " 0.62785948 0.64767157 0.63991013 0.63480392 0.63868464 0.62336601\n",
      " 0.62745098 0.63970588 0.64705882 0.66196895 0.67075163 0.65196078\n",
      " 0.63112745 0.61294935 0.6376634  0.62254902 0.62745098 0.63337418\n",
      " 0.62642974 0.63623366 0.58312908 0.57781863 0.57230392 0.58006536\n",
      " 0.57618464 0.55167484 0.57883987 0.625      0.63582516 0.62949346\n",
      " 0.62888072 0.62765523 0.62234477 0.63378268 0.62622549 0.62214052\n",
      " 0.62418301 0.60619998 0.57517725 0.54601872 0.5237329  0.50651169\n",
      " 0.49142575 0.47694394 0.46292585 0.44980228]\n",
      "9 day output [[0.43795314]]\n",
      "10 day input [0.67892157 0.69138072 0.70894608 0.72263072 0.73406863 0.72120098\n",
      " 0.74979575 0.7689951  0.74468954 0.7120098  0.74673203 0.75490196\n",
      " 0.76041667 0.75980392 0.74652778 0.76245915 0.77062908 0.80412582\n",
      " 0.78104575 0.79411765 0.76021242 0.73488562 0.72406046 0.73999183\n",
      " 0.74979575 0.76143791 0.75428922 0.74754902 0.76960784 0.7495915\n",
      " 0.81719771 0.80208333 0.77736928 0.75714869 0.79370915 0.79166667\n",
      " 0.77144608 0.75265523 0.72691993 0.6629902  0.68198529 0.64419935\n",
      " 0.62152778 0.6439951  0.66319444 0.67544935 0.63705065 0.64603758\n",
      " 0.65890523 0.65870098 0.67790033 0.63194444 0.63112745 0.62785948\n",
      " 0.64767157 0.63991013 0.63480392 0.63868464 0.62336601 0.62745098\n",
      " 0.63970588 0.64705882 0.66196895 0.67075163 0.65196078 0.63112745\n",
      " 0.61294935 0.6376634  0.62254902 0.62745098 0.63337418 0.62642974\n",
      " 0.63623366 0.58312908 0.57781863 0.57230392 0.58006536 0.57618464\n",
      " 0.55167484 0.57883987 0.625      0.63582516 0.62949346 0.62888072\n",
      " 0.62765523 0.62234477 0.63378268 0.62622549 0.62214052 0.62418301\n",
      " 0.60619998 0.57517725 0.54601872 0.5237329  0.50651169 0.49142575\n",
      " 0.47694394 0.46292585 0.44980228 0.43795314]\n",
      "10 day output [[0.42749986]]\n",
      "11 day input [0.69138072 0.70894608 0.72263072 0.73406863 0.72120098 0.74979575\n",
      " 0.7689951  0.74468954 0.7120098  0.74673203 0.75490196 0.76041667\n",
      " 0.75980392 0.74652778 0.76245915 0.77062908 0.80412582 0.78104575\n",
      " 0.79411765 0.76021242 0.73488562 0.72406046 0.73999183 0.74979575\n",
      " 0.76143791 0.75428922 0.74754902 0.76960784 0.7495915  0.81719771\n",
      " 0.80208333 0.77736928 0.75714869 0.79370915 0.79166667 0.77144608\n",
      " 0.75265523 0.72691993 0.6629902  0.68198529 0.64419935 0.62152778\n",
      " 0.6439951  0.66319444 0.67544935 0.63705065 0.64603758 0.65890523\n",
      " 0.65870098 0.67790033 0.63194444 0.63112745 0.62785948 0.64767157\n",
      " 0.63991013 0.63480392 0.63868464 0.62336601 0.62745098 0.63970588\n",
      " 0.64705882 0.66196895 0.67075163 0.65196078 0.63112745 0.61294935\n",
      " 0.6376634  0.62254902 0.62745098 0.63337418 0.62642974 0.63623366\n",
      " 0.58312908 0.57781863 0.57230392 0.58006536 0.57618464 0.55167484\n",
      " 0.57883987 0.625      0.63582516 0.62949346 0.62888072 0.62765523\n",
      " 0.62234477 0.63378268 0.62622549 0.62214052 0.62418301 0.60619998\n",
      " 0.57517725 0.54601872 0.5237329  0.50651169 0.49142575 0.47694394\n",
      " 0.46292585 0.44980228 0.43795314 0.42749986]\n",
      "11 day output [[0.41835368]]\n",
      "12 day input [0.70894608 0.72263072 0.73406863 0.72120098 0.74979575 0.7689951\n",
      " 0.74468954 0.7120098  0.74673203 0.75490196 0.76041667 0.75980392\n",
      " 0.74652778 0.76245915 0.77062908 0.80412582 0.78104575 0.79411765\n",
      " 0.76021242 0.73488562 0.72406046 0.73999183 0.74979575 0.76143791\n",
      " 0.75428922 0.74754902 0.76960784 0.7495915  0.81719771 0.80208333\n",
      " 0.77736928 0.75714869 0.79370915 0.79166667 0.77144608 0.75265523\n",
      " 0.72691993 0.6629902  0.68198529 0.64419935 0.62152778 0.6439951\n",
      " 0.66319444 0.67544935 0.63705065 0.64603758 0.65890523 0.65870098\n",
      " 0.67790033 0.63194444 0.63112745 0.62785948 0.64767157 0.63991013\n",
      " 0.63480392 0.63868464 0.62336601 0.62745098 0.63970588 0.64705882\n",
      " 0.66196895 0.67075163 0.65196078 0.63112745 0.61294935 0.6376634\n",
      " 0.62254902 0.62745098 0.63337418 0.62642974 0.63623366 0.58312908\n",
      " 0.57781863 0.57230392 0.58006536 0.57618464 0.55167484 0.57883987\n",
      " 0.625      0.63582516 0.62949346 0.62888072 0.62765523 0.62234477\n",
      " 0.63378268 0.62622549 0.62214052 0.62418301 0.60619998 0.57517725\n",
      " 0.54601872 0.5237329  0.50651169 0.49142575 0.47694394 0.46292585\n",
      " 0.44980228 0.43795314 0.42749986 0.41835368]\n",
      "12 day output [[0.4103304]]\n",
      "13 day input [0.72263072 0.73406863 0.72120098 0.74979575 0.7689951  0.74468954\n",
      " 0.7120098  0.74673203 0.75490196 0.76041667 0.75980392 0.74652778\n",
      " 0.76245915 0.77062908 0.80412582 0.78104575 0.79411765 0.76021242\n",
      " 0.73488562 0.72406046 0.73999183 0.74979575 0.76143791 0.75428922\n",
      " 0.74754902 0.76960784 0.7495915  0.81719771 0.80208333 0.77736928\n",
      " 0.75714869 0.79370915 0.79166667 0.77144608 0.75265523 0.72691993\n",
      " 0.6629902  0.68198529 0.64419935 0.62152778 0.6439951  0.66319444\n",
      " 0.67544935 0.63705065 0.64603758 0.65890523 0.65870098 0.67790033\n",
      " 0.63194444 0.63112745 0.62785948 0.64767157 0.63991013 0.63480392\n",
      " 0.63868464 0.62336601 0.62745098 0.63970588 0.64705882 0.66196895\n",
      " 0.67075163 0.65196078 0.63112745 0.61294935 0.6376634  0.62254902\n",
      " 0.62745098 0.63337418 0.62642974 0.63623366 0.58312908 0.57781863\n",
      " 0.57230392 0.58006536 0.57618464 0.55167484 0.57883987 0.625\n",
      " 0.63582516 0.62949346 0.62888072 0.62765523 0.62234477 0.63378268\n",
      " 0.62622549 0.62214052 0.62418301 0.60619998 0.57517725 0.54601872\n",
      " 0.5237329  0.50651169 0.49142575 0.47694394 0.46292585 0.44980228\n",
      " 0.43795314 0.42749986 0.41835368 0.41033041]\n",
      "13 day output [[0.40323558]]\n",
      "14 day input [0.73406863 0.72120098 0.74979575 0.7689951  0.74468954 0.7120098\n",
      " 0.74673203 0.75490196 0.76041667 0.75980392 0.74652778 0.76245915\n",
      " 0.77062908 0.80412582 0.78104575 0.79411765 0.76021242 0.73488562\n",
      " 0.72406046 0.73999183 0.74979575 0.76143791 0.75428922 0.74754902\n",
      " 0.76960784 0.7495915  0.81719771 0.80208333 0.77736928 0.75714869\n",
      " 0.79370915 0.79166667 0.77144608 0.75265523 0.72691993 0.6629902\n",
      " 0.68198529 0.64419935 0.62152778 0.6439951  0.66319444 0.67544935\n",
      " 0.63705065 0.64603758 0.65890523 0.65870098 0.67790033 0.63194444\n",
      " 0.63112745 0.62785948 0.64767157 0.63991013 0.63480392 0.63868464\n",
      " 0.62336601 0.62745098 0.63970588 0.64705882 0.66196895 0.67075163\n",
      " 0.65196078 0.63112745 0.61294935 0.6376634  0.62254902 0.62745098\n",
      " 0.63337418 0.62642974 0.63623366 0.58312908 0.57781863 0.57230392\n",
      " 0.58006536 0.57618464 0.55167484 0.57883987 0.625      0.63582516\n",
      " 0.62949346 0.62888072 0.62765523 0.62234477 0.63378268 0.62622549\n",
      " 0.62214052 0.62418301 0.60619998 0.57517725 0.54601872 0.5237329\n",
      " 0.50651169 0.49142575 0.47694394 0.46292585 0.44980228 0.43795314\n",
      " 0.42749986 0.41835368 0.41033041 0.40323558]\n",
      "14 day output [[0.39690197]]\n",
      "15 day input [0.72120098 0.74979575 0.7689951  0.74468954 0.7120098  0.74673203\n",
      " 0.75490196 0.76041667 0.75980392 0.74652778 0.76245915 0.77062908\n",
      " 0.80412582 0.78104575 0.79411765 0.76021242 0.73488562 0.72406046\n",
      " 0.73999183 0.74979575 0.76143791 0.75428922 0.74754902 0.76960784\n",
      " 0.7495915  0.81719771 0.80208333 0.77736928 0.75714869 0.79370915\n",
      " 0.79166667 0.77144608 0.75265523 0.72691993 0.6629902  0.68198529\n",
      " 0.64419935 0.62152778 0.6439951  0.66319444 0.67544935 0.63705065\n",
      " 0.64603758 0.65890523 0.65870098 0.67790033 0.63194444 0.63112745\n",
      " 0.62785948 0.64767157 0.63991013 0.63480392 0.63868464 0.62336601\n",
      " 0.62745098 0.63970588 0.64705882 0.66196895 0.67075163 0.65196078\n",
      " 0.63112745 0.61294935 0.6376634  0.62254902 0.62745098 0.63337418\n",
      " 0.62642974 0.63623366 0.58312908 0.57781863 0.57230392 0.58006536\n",
      " 0.57618464 0.55167484 0.57883987 0.625      0.63582516 0.62949346\n",
      " 0.62888072 0.62765523 0.62234477 0.63378268 0.62622549 0.62214052\n",
      " 0.62418301 0.60619998 0.57517725 0.54601872 0.5237329  0.50651169\n",
      " 0.49142575 0.47694394 0.46292585 0.44980228 0.43795314 0.42749986\n",
      " 0.41835368 0.41033041 0.40323558 0.39690197]\n",
      "15 day output [[0.39119592]]\n",
      "16 day input [0.74979575 0.7689951  0.74468954 0.7120098  0.74673203 0.75490196\n",
      " 0.76041667 0.75980392 0.74652778 0.76245915 0.77062908 0.80412582\n",
      " 0.78104575 0.79411765 0.76021242 0.73488562 0.72406046 0.73999183\n",
      " 0.74979575 0.76143791 0.75428922 0.74754902 0.76960784 0.7495915\n",
      " 0.81719771 0.80208333 0.77736928 0.75714869 0.79370915 0.79166667\n",
      " 0.77144608 0.75265523 0.72691993 0.6629902  0.68198529 0.64419935\n",
      " 0.62152778 0.6439951  0.66319444 0.67544935 0.63705065 0.64603758\n",
      " 0.65890523 0.65870098 0.67790033 0.63194444 0.63112745 0.62785948\n",
      " 0.64767157 0.63991013 0.63480392 0.63868464 0.62336601 0.62745098\n",
      " 0.63970588 0.64705882 0.66196895 0.67075163 0.65196078 0.63112745\n",
      " 0.61294935 0.6376634  0.62254902 0.62745098 0.63337418 0.62642974\n",
      " 0.63623366 0.58312908 0.57781863 0.57230392 0.58006536 0.57618464\n",
      " 0.55167484 0.57883987 0.625      0.63582516 0.62949346 0.62888072\n",
      " 0.62765523 0.62234477 0.63378268 0.62622549 0.62214052 0.62418301\n",
      " 0.60619998 0.57517725 0.54601872 0.5237329  0.50651169 0.49142575\n",
      " 0.47694394 0.46292585 0.44980228 0.43795314 0.42749986 0.41835368\n",
      " 0.41033041 0.40323558 0.39690197 0.39119592]\n",
      "16 day output [[0.38601047]]\n",
      "17 day input [0.7689951  0.74468954 0.7120098  0.74673203 0.75490196 0.76041667\n",
      " 0.75980392 0.74652778 0.76245915 0.77062908 0.80412582 0.78104575\n",
      " 0.79411765 0.76021242 0.73488562 0.72406046 0.73999183 0.74979575\n",
      " 0.76143791 0.75428922 0.74754902 0.76960784 0.7495915  0.81719771\n",
      " 0.80208333 0.77736928 0.75714869 0.79370915 0.79166667 0.77144608\n",
      " 0.75265523 0.72691993 0.6629902  0.68198529 0.64419935 0.62152778\n",
      " 0.6439951  0.66319444 0.67544935 0.63705065 0.64603758 0.65890523\n",
      " 0.65870098 0.67790033 0.63194444 0.63112745 0.62785948 0.64767157\n",
      " 0.63991013 0.63480392 0.63868464 0.62336601 0.62745098 0.63970588\n",
      " 0.64705882 0.66196895 0.67075163 0.65196078 0.63112745 0.61294935\n",
      " 0.6376634  0.62254902 0.62745098 0.63337418 0.62642974 0.63623366\n",
      " 0.58312908 0.57781863 0.57230392 0.58006536 0.57618464 0.55167484\n",
      " 0.57883987 0.625      0.63582516 0.62949346 0.62888072 0.62765523\n",
      " 0.62234477 0.63378268 0.62622549 0.62214052 0.62418301 0.60619998\n",
      " 0.57517725 0.54601872 0.5237329  0.50651169 0.49142575 0.47694394\n",
      " 0.46292585 0.44980228 0.43795314 0.42749986 0.41835368 0.41033041\n",
      " 0.40323558 0.39690197 0.39119592 0.38601047]\n",
      "17 day output [[0.38125703]]\n",
      "18 day input [0.74468954 0.7120098  0.74673203 0.75490196 0.76041667 0.75980392\n",
      " 0.74652778 0.76245915 0.77062908 0.80412582 0.78104575 0.79411765\n",
      " 0.76021242 0.73488562 0.72406046 0.73999183 0.74979575 0.76143791\n",
      " 0.75428922 0.74754902 0.76960784 0.7495915  0.81719771 0.80208333\n",
      " 0.77736928 0.75714869 0.79370915 0.79166667 0.77144608 0.75265523\n",
      " 0.72691993 0.6629902  0.68198529 0.64419935 0.62152778 0.6439951\n",
      " 0.66319444 0.67544935 0.63705065 0.64603758 0.65890523 0.65870098\n",
      " 0.67790033 0.63194444 0.63112745 0.62785948 0.64767157 0.63991013\n",
      " 0.63480392 0.63868464 0.62336601 0.62745098 0.63970588 0.64705882\n",
      " 0.66196895 0.67075163 0.65196078 0.63112745 0.61294935 0.6376634\n",
      " 0.62254902 0.62745098 0.63337418 0.62642974 0.63623366 0.58312908\n",
      " 0.57781863 0.57230392 0.58006536 0.57618464 0.55167484 0.57883987\n",
      " 0.625      0.63582516 0.62949346 0.62888072 0.62765523 0.62234477\n",
      " 0.63378268 0.62622549 0.62214052 0.62418301 0.60619998 0.57517725\n",
      " 0.54601872 0.5237329  0.50651169 0.49142575 0.47694394 0.46292585\n",
      " 0.44980228 0.43795314 0.42749986 0.41835368 0.41033041 0.40323558\n",
      " 0.39690197 0.39119592 0.38601047 0.38125703]\n",
      "18 day output [[0.37685996]]\n",
      "19 day input [0.7120098  0.74673203 0.75490196 0.76041667 0.75980392 0.74652778\n",
      " 0.76245915 0.77062908 0.80412582 0.78104575 0.79411765 0.76021242\n",
      " 0.73488562 0.72406046 0.73999183 0.74979575 0.76143791 0.75428922\n",
      " 0.74754902 0.76960784 0.7495915  0.81719771 0.80208333 0.77736928\n",
      " 0.75714869 0.79370915 0.79166667 0.77144608 0.75265523 0.72691993\n",
      " 0.6629902  0.68198529 0.64419935 0.62152778 0.6439951  0.66319444\n",
      " 0.67544935 0.63705065 0.64603758 0.65890523 0.65870098 0.67790033\n",
      " 0.63194444 0.63112745 0.62785948 0.64767157 0.63991013 0.63480392\n",
      " 0.63868464 0.62336601 0.62745098 0.63970588 0.64705882 0.66196895\n",
      " 0.67075163 0.65196078 0.63112745 0.61294935 0.6376634  0.62254902\n",
      " 0.62745098 0.63337418 0.62642974 0.63623366 0.58312908 0.57781863\n",
      " 0.57230392 0.58006536 0.57618464 0.55167484 0.57883987 0.625\n",
      " 0.63582516 0.62949346 0.62888072 0.62765523 0.62234477 0.63378268\n",
      " 0.62622549 0.62214052 0.62418301 0.60619998 0.57517725 0.54601872\n",
      " 0.5237329  0.50651169 0.49142575 0.47694394 0.46292585 0.44980228\n",
      " 0.43795314 0.42749986 0.41835368 0.41033041 0.40323558 0.39690197\n",
      " 0.39119592 0.38601047 0.38125703 0.37685996]\n",
      "19 day output [[0.37275392]]\n",
      "20 day input [0.74673203 0.75490196 0.76041667 0.75980392 0.74652778 0.76245915\n",
      " 0.77062908 0.80412582 0.78104575 0.79411765 0.76021242 0.73488562\n",
      " 0.72406046 0.73999183 0.74979575 0.76143791 0.75428922 0.74754902\n",
      " 0.76960784 0.7495915  0.81719771 0.80208333 0.77736928 0.75714869\n",
      " 0.79370915 0.79166667 0.77144608 0.75265523 0.72691993 0.6629902\n",
      " 0.68198529 0.64419935 0.62152778 0.6439951  0.66319444 0.67544935\n",
      " 0.63705065 0.64603758 0.65890523 0.65870098 0.67790033 0.63194444\n",
      " 0.63112745 0.62785948 0.64767157 0.63991013 0.63480392 0.63868464\n",
      " 0.62336601 0.62745098 0.63970588 0.64705882 0.66196895 0.67075163\n",
      " 0.65196078 0.63112745 0.61294935 0.6376634  0.62254902 0.62745098\n",
      " 0.63337418 0.62642974 0.63623366 0.58312908 0.57781863 0.57230392\n",
      " 0.58006536 0.57618464 0.55167484 0.57883987 0.625      0.63582516\n",
      " 0.62949346 0.62888072 0.62765523 0.62234477 0.63378268 0.62622549\n",
      " 0.62214052 0.62418301 0.60619998 0.57517725 0.54601872 0.5237329\n",
      " 0.50651169 0.49142575 0.47694394 0.46292585 0.44980228 0.43795314\n",
      " 0.42749986 0.41835368 0.41033041 0.40323558 0.39690197 0.39119592\n",
      " 0.38601047 0.38125703 0.37685996 0.37275392]\n",
      "20 day output [[0.3688829]]\n",
      "21 day input [0.75490196 0.76041667 0.75980392 0.74652778 0.76245915 0.77062908\n",
      " 0.80412582 0.78104575 0.79411765 0.76021242 0.73488562 0.72406046\n",
      " 0.73999183 0.74979575 0.76143791 0.75428922 0.74754902 0.76960784\n",
      " 0.7495915  0.81719771 0.80208333 0.77736928 0.75714869 0.79370915\n",
      " 0.79166667 0.77144608 0.75265523 0.72691993 0.6629902  0.68198529\n",
      " 0.64419935 0.62152778 0.6439951  0.66319444 0.67544935 0.63705065\n",
      " 0.64603758 0.65890523 0.65870098 0.67790033 0.63194444 0.63112745\n",
      " 0.62785948 0.64767157 0.63991013 0.63480392 0.63868464 0.62336601\n",
      " 0.62745098 0.63970588 0.64705882 0.66196895 0.67075163 0.65196078\n",
      " 0.63112745 0.61294935 0.6376634  0.62254902 0.62745098 0.63337418\n",
      " 0.62642974 0.63623366 0.58312908 0.57781863 0.57230392 0.58006536\n",
      " 0.57618464 0.55167484 0.57883987 0.625      0.63582516 0.62949346\n",
      " 0.62888072 0.62765523 0.62234477 0.63378268 0.62622549 0.62214052\n",
      " 0.62418301 0.60619998 0.57517725 0.54601872 0.5237329  0.50651169\n",
      " 0.49142575 0.47694394 0.46292585 0.44980228 0.43795314 0.42749986\n",
      " 0.41835368 0.41033041 0.40323558 0.39690197 0.39119592 0.38601047\n",
      " 0.38125703 0.37685996 0.37275392 0.36888289]\n",
      "21 day output [[0.36520028]]\n",
      "22 day input [0.76041667 0.75980392 0.74652778 0.76245915 0.77062908 0.80412582\n",
      " 0.78104575 0.79411765 0.76021242 0.73488562 0.72406046 0.73999183\n",
      " 0.74979575 0.76143791 0.75428922 0.74754902 0.76960784 0.7495915\n",
      " 0.81719771 0.80208333 0.77736928 0.75714869 0.79370915 0.79166667\n",
      " 0.77144608 0.75265523 0.72691993 0.6629902  0.68198529 0.64419935\n",
      " 0.62152778 0.6439951  0.66319444 0.67544935 0.63705065 0.64603758\n",
      " 0.65890523 0.65870098 0.67790033 0.63194444 0.63112745 0.62785948\n",
      " 0.64767157 0.63991013 0.63480392 0.63868464 0.62336601 0.62745098\n",
      " 0.63970588 0.64705882 0.66196895 0.67075163 0.65196078 0.63112745\n",
      " 0.61294935 0.6376634  0.62254902 0.62745098 0.63337418 0.62642974\n",
      " 0.63623366 0.58312908 0.57781863 0.57230392 0.58006536 0.57618464\n",
      " 0.55167484 0.57883987 0.625      0.63582516 0.62949346 0.62888072\n",
      " 0.62765523 0.62234477 0.63378268 0.62622549 0.62214052 0.62418301\n",
      " 0.60619998 0.57517725 0.54601872 0.5237329  0.50651169 0.49142575\n",
      " 0.47694394 0.46292585 0.44980228 0.43795314 0.42749986 0.41835368\n",
      " 0.41033041 0.40323558 0.39690197 0.39119592 0.38601047 0.38125703\n",
      " 0.37685996 0.37275392 0.36888289 0.36520028]\n",
      "22 day output [[0.36166817]]\n",
      "23 day input [0.75980392 0.74652778 0.76245915 0.77062908 0.80412582 0.78104575\n",
      " 0.79411765 0.76021242 0.73488562 0.72406046 0.73999183 0.74979575\n",
      " 0.76143791 0.75428922 0.74754902 0.76960784 0.7495915  0.81719771\n",
      " 0.80208333 0.77736928 0.75714869 0.79370915 0.79166667 0.77144608\n",
      " 0.75265523 0.72691993 0.6629902  0.68198529 0.64419935 0.62152778\n",
      " 0.6439951  0.66319444 0.67544935 0.63705065 0.64603758 0.65890523\n",
      " 0.65870098 0.67790033 0.63194444 0.63112745 0.62785948 0.64767157\n",
      " 0.63991013 0.63480392 0.63868464 0.62336601 0.62745098 0.63970588\n",
      " 0.64705882 0.66196895 0.67075163 0.65196078 0.63112745 0.61294935\n",
      " 0.6376634  0.62254902 0.62745098 0.63337418 0.62642974 0.63623366\n",
      " 0.58312908 0.57781863 0.57230392 0.58006536 0.57618464 0.55167484\n",
      " 0.57883987 0.625      0.63582516 0.62949346 0.62888072 0.62765523\n",
      " 0.62234477 0.63378268 0.62622549 0.62214052 0.62418301 0.60619998\n",
      " 0.57517725 0.54601872 0.5237329  0.50651169 0.49142575 0.47694394\n",
      " 0.46292585 0.44980228 0.43795314 0.42749986 0.41835368 0.41033041\n",
      " 0.40323558 0.39690197 0.39119592 0.38601047 0.38125703 0.37685996\n",
      " 0.37275392 0.36888289 0.36520028 0.36166817]\n",
      "23 day output [[0.3582567]]\n",
      "24 day input [0.74652778 0.76245915 0.77062908 0.80412582 0.78104575 0.79411765\n",
      " 0.76021242 0.73488562 0.72406046 0.73999183 0.74979575 0.76143791\n",
      " 0.75428922 0.74754902 0.76960784 0.7495915  0.81719771 0.80208333\n",
      " 0.77736928 0.75714869 0.79370915 0.79166667 0.77144608 0.75265523\n",
      " 0.72691993 0.6629902  0.68198529 0.64419935 0.62152778 0.6439951\n",
      " 0.66319444 0.67544935 0.63705065 0.64603758 0.65890523 0.65870098\n",
      " 0.67790033 0.63194444 0.63112745 0.62785948 0.64767157 0.63991013\n",
      " 0.63480392 0.63868464 0.62336601 0.62745098 0.63970588 0.64705882\n",
      " 0.66196895 0.67075163 0.65196078 0.63112745 0.61294935 0.6376634\n",
      " 0.62254902 0.62745098 0.63337418 0.62642974 0.63623366 0.58312908\n",
      " 0.57781863 0.57230392 0.58006536 0.57618464 0.55167484 0.57883987\n",
      " 0.625      0.63582516 0.62949346 0.62888072 0.62765523 0.62234477\n",
      " 0.63378268 0.62622549 0.62214052 0.62418301 0.60619998 0.57517725\n",
      " 0.54601872 0.5237329  0.50651169 0.49142575 0.47694394 0.46292585\n",
      " 0.44980228 0.43795314 0.42749986 0.41835368 0.41033041 0.40323558\n",
      " 0.39690197 0.39119592 0.38601047 0.38125703 0.37685996 0.37275392\n",
      " 0.36888289 0.36520028 0.36166817 0.3582567 ]\n",
      "24 day output [[0.3549432]]\n",
      "25 day input [0.76245915 0.77062908 0.80412582 0.78104575 0.79411765 0.76021242\n",
      " 0.73488562 0.72406046 0.73999183 0.74979575 0.76143791 0.75428922\n",
      " 0.74754902 0.76960784 0.7495915  0.81719771 0.80208333 0.77736928\n",
      " 0.75714869 0.79370915 0.79166667 0.77144608 0.75265523 0.72691993\n",
      " 0.6629902  0.68198529 0.64419935 0.62152778 0.6439951  0.66319444\n",
      " 0.67544935 0.63705065 0.64603758 0.65890523 0.65870098 0.67790033\n",
      " 0.63194444 0.63112745 0.62785948 0.64767157 0.63991013 0.63480392\n",
      " 0.63868464 0.62336601 0.62745098 0.63970588 0.64705882 0.66196895\n",
      " 0.67075163 0.65196078 0.63112745 0.61294935 0.6376634  0.62254902\n",
      " 0.62745098 0.63337418 0.62642974 0.63623366 0.58312908 0.57781863\n",
      " 0.57230392 0.58006536 0.57618464 0.55167484 0.57883987 0.625\n",
      " 0.63582516 0.62949346 0.62888072 0.62765523 0.62234477 0.63378268\n",
      " 0.62622549 0.62214052 0.62418301 0.60619998 0.57517725 0.54601872\n",
      " 0.5237329  0.50651169 0.49142575 0.47694394 0.46292585 0.44980228\n",
      " 0.43795314 0.42749986 0.41835368 0.41033041 0.40323558 0.39690197\n",
      " 0.39119592 0.38601047 0.38125703 0.37685996 0.37275392 0.36888289\n",
      " 0.36520028 0.36166817 0.3582567  0.35494319]\n",
      "25 day output [[0.35171086]]\n",
      "26 day input [0.77062908 0.80412582 0.78104575 0.79411765 0.76021242 0.73488562\n",
      " 0.72406046 0.73999183 0.74979575 0.76143791 0.75428922 0.74754902\n",
      " 0.76960784 0.7495915  0.81719771 0.80208333 0.77736928 0.75714869\n",
      " 0.79370915 0.79166667 0.77144608 0.75265523 0.72691993 0.6629902\n",
      " 0.68198529 0.64419935 0.62152778 0.6439951  0.66319444 0.67544935\n",
      " 0.63705065 0.64603758 0.65890523 0.65870098 0.67790033 0.63194444\n",
      " 0.63112745 0.62785948 0.64767157 0.63991013 0.63480392 0.63868464\n",
      " 0.62336601 0.62745098 0.63970588 0.64705882 0.66196895 0.67075163\n",
      " 0.65196078 0.63112745 0.61294935 0.6376634  0.62254902 0.62745098\n",
      " 0.63337418 0.62642974 0.63623366 0.58312908 0.57781863 0.57230392\n",
      " 0.58006536 0.57618464 0.55167484 0.57883987 0.625      0.63582516\n",
      " 0.62949346 0.62888072 0.62765523 0.62234477 0.63378268 0.62622549\n",
      " 0.62214052 0.62418301 0.60619998 0.57517725 0.54601872 0.5237329\n",
      " 0.50651169 0.49142575 0.47694394 0.46292585 0.44980228 0.43795314\n",
      " 0.42749986 0.41835368 0.41033041 0.40323558 0.39690197 0.39119592\n",
      " 0.38601047 0.38125703 0.37685996 0.37275392 0.36888289 0.36520028\n",
      " 0.36166817 0.3582567  0.35494319 0.35171086]\n",
      "26 day output [[0.3485476]]\n",
      "27 day input [0.80412582 0.78104575 0.79411765 0.76021242 0.73488562 0.72406046\n",
      " 0.73999183 0.74979575 0.76143791 0.75428922 0.74754902 0.76960784\n",
      " 0.7495915  0.81719771 0.80208333 0.77736928 0.75714869 0.79370915\n",
      " 0.79166667 0.77144608 0.75265523 0.72691993 0.6629902  0.68198529\n",
      " 0.64419935 0.62152778 0.6439951  0.66319444 0.67544935 0.63705065\n",
      " 0.64603758 0.65890523 0.65870098 0.67790033 0.63194444 0.63112745\n",
      " 0.62785948 0.64767157 0.63991013 0.63480392 0.63868464 0.62336601\n",
      " 0.62745098 0.63970588 0.64705882 0.66196895 0.67075163 0.65196078\n",
      " 0.63112745 0.61294935 0.6376634  0.62254902 0.62745098 0.63337418\n",
      " 0.62642974 0.63623366 0.58312908 0.57781863 0.57230392 0.58006536\n",
      " 0.57618464 0.55167484 0.57883987 0.625      0.63582516 0.62949346\n",
      " 0.62888072 0.62765523 0.62234477 0.63378268 0.62622549 0.62214052\n",
      " 0.62418301 0.60619998 0.57517725 0.54601872 0.5237329  0.50651169\n",
      " 0.49142575 0.47694394 0.46292585 0.44980228 0.43795314 0.42749986\n",
      " 0.41835368 0.41033041 0.40323558 0.39690197 0.39119592 0.38601047\n",
      " 0.38125703 0.37685996 0.37275392 0.36888289 0.36520028 0.36166817\n",
      " 0.3582567  0.35494319 0.35171086 0.34854761]\n",
      "27 day output [[0.3454457]]\n",
      "28 day input [0.78104575 0.79411765 0.76021242 0.73488562 0.72406046 0.73999183\n",
      " 0.74979575 0.76143791 0.75428922 0.74754902 0.76960784 0.7495915\n",
      " 0.81719771 0.80208333 0.77736928 0.75714869 0.79370915 0.79166667\n",
      " 0.77144608 0.75265523 0.72691993 0.6629902  0.68198529 0.64419935\n",
      " 0.62152778 0.6439951  0.66319444 0.67544935 0.63705065 0.64603758\n",
      " 0.65890523 0.65870098 0.67790033 0.63194444 0.63112745 0.62785948\n",
      " 0.64767157 0.63991013 0.63480392 0.63868464 0.62336601 0.62745098\n",
      " 0.63970588 0.64705882 0.66196895 0.67075163 0.65196078 0.63112745\n",
      " 0.61294935 0.6376634  0.62254902 0.62745098 0.63337418 0.62642974\n",
      " 0.63623366 0.58312908 0.57781863 0.57230392 0.58006536 0.57618464\n",
      " 0.55167484 0.57883987 0.625      0.63582516 0.62949346 0.62888072\n",
      " 0.62765523 0.62234477 0.63378268 0.62622549 0.62214052 0.62418301\n",
      " 0.60619998 0.57517725 0.54601872 0.5237329  0.50651169 0.49142575\n",
      " 0.47694394 0.46292585 0.44980228 0.43795314 0.42749986 0.41835368\n",
      " 0.41033041 0.40323558 0.39690197 0.39119592 0.38601047 0.38125703\n",
      " 0.37685996 0.37275392 0.36888289 0.36520028 0.36166817 0.3582567\n",
      " 0.35494319 0.35171086 0.34854761 0.34544569]\n",
      "28 day output [[0.3424001]]\n",
      "29 day input [0.79411765 0.76021242 0.73488562 0.72406046 0.73999183 0.74979575\n",
      " 0.76143791 0.75428922 0.74754902 0.76960784 0.7495915  0.81719771\n",
      " 0.80208333 0.77736928 0.75714869 0.79370915 0.79166667 0.77144608\n",
      " 0.75265523 0.72691993 0.6629902  0.68198529 0.64419935 0.62152778\n",
      " 0.6439951  0.66319444 0.67544935 0.63705065 0.64603758 0.65890523\n",
      " 0.65870098 0.67790033 0.63194444 0.63112745 0.62785948 0.64767157\n",
      " 0.63991013 0.63480392 0.63868464 0.62336601 0.62745098 0.63970588\n",
      " 0.64705882 0.66196895 0.67075163 0.65196078 0.63112745 0.61294935\n",
      " 0.6376634  0.62254902 0.62745098 0.63337418 0.62642974 0.63623366\n",
      " 0.58312908 0.57781863 0.57230392 0.58006536 0.57618464 0.55167484\n",
      " 0.57883987 0.625      0.63582516 0.62949346 0.62888072 0.62765523\n",
      " 0.62234477 0.63378268 0.62622549 0.62214052 0.62418301 0.60619998\n",
      " 0.57517725 0.54601872 0.5237329  0.50651169 0.49142575 0.47694394\n",
      " 0.46292585 0.44980228 0.43795314 0.42749986 0.41835368 0.41033041\n",
      " 0.40323558 0.39690197 0.39119592 0.38601047 0.38125703 0.37685996\n",
      " 0.37275392 0.36888289 0.36520028 0.36166817 0.3582567  0.35494319\n",
      " 0.35171086 0.34854761 0.34544569 0.3424001 ]\n",
      "29 day output [[0.33940813]]\n",
      "[[0.6061999797821045], [0.5751772522926331], [0.5460187196731567], [0.5237329006195068], [0.5065116882324219], [0.4914257526397705], [0.4769439399242401], [0.46292585134506226], [0.4498022794723511], [0.4379531443119049], [0.4274998605251312], [0.4183536767959595], [0.4103304147720337], [0.4032355844974518], [0.3969019651412964], [0.3911959230899811], [0.38601046800613403], [0.381257027387619], [0.37685996294021606], [0.37275391817092896], [0.3688828945159912], [0.3652002811431885], [0.3616681694984436], [0.3582566976547241], [0.354943186044693], [0.35171085596084595], [0.3485476076602936], [0.3454456925392151], [0.34240010380744934], [0.33940812945365906]]\n"
     ]
    }
   ],
   "source": [
    "from numpy import array\n",
    "\n",
    "lst_output=[]\n",
    "n_steps=100\n",
    "i=0\n",
    "while(i<30):\n",
    "    if(len(temp_input)>100):\n",
    "        # get the 100 days data from the input list\n",
    "        x_input=np.array(temp_input[1:])\n",
    "        print(\"{} day input {}\".format(i,x_input))\n",
    "        # reshape the input to be fed to the model\n",
    "        x_input=x_input.reshape(1,-1)\n",
    "        x_input = x_input.reshape((1, n_steps, 1))\n",
    "        # make the prediction\n",
    "        yhat = model.predict(x_input, verbose=0)\n",
    "        print(\"{} day output {}\".format(i,yhat))\n",
    "        temp_input.extend(yhat[0].tolist())\n",
    "        temp_input=temp_input[1:]\n",
    "        # add the current output to the list of outputs\n",
    "        lst_output.extend(yhat.tolist())\n",
    "        i=i+1\n",
    "    else:\n",
    "        # reshape the input data to feed it to the LSTM model\n",
    "        x_input = x_input.reshape((1, n_steps,1))\n",
    "        # make the prediction\n",
    "        yhat = model.predict(x_input, verbose=0)\n",
    "        print(yhat[0])\n",
    "        temp_input.extend(yhat[0].tolist())\n",
    "        print(len(temp_input))\n",
    "        # add the current output to the list of outputs\n",
    "        lst_output.extend(yhat.tolist())\n",
    "        i=i+1\n",
    "\n",
    "print(lst_output)"
   ]
  },
  {
   "cell_type": "code",
   "execution_count": 38,
   "id": "f5d195bd",
   "metadata": {},
   "outputs": [],
   "source": [
    "# initial 100 days\n",
    "day_new=np.arange(1,101)\n",
    "# next 30 days to be predicted\n",
    "day_pred=np.arange(101,131)"
   ]
  },
  {
   "cell_type": "code",
   "execution_count": 39,
   "id": "6de4e0e2",
   "metadata": {},
   "outputs": [
    {
     "data": {
      "text/plain": [
       "2035"
      ]
     },
     "execution_count": 39,
     "metadata": {},
     "output_type": "execute_result"
    }
   ],
   "source": [
    "len(close_prices)"
   ]
  },
  {
   "cell_type": "code",
   "execution_count": 40,
   "id": "f4f88cf9",
   "metadata": {},
   "outputs": [
    {
     "data": {
      "image/png": "[encoded data removed]",
      "text/plain": [
       "<Figure size 640x480 with 1 Axes>"
      ]
     },
     "metadata": {},
     "output_type": "display_data"
    }
   ],
   "source": [
    "# Plotting the actual data in blue\n",
    "plt.plot(day_new, scaler.inverse_transform(close_prices[1935:]), color='blue', label='Actual Data')\n",
    "\n",
    "# Plotting the predicted data in green\n",
    "plt.plot(day_pred, scaler.inverse_transform(lst_output), color='green', label='Predicted Data')\n",
    "\n",
    "plt.legend()  # Show the legend for better clarity\n",
    "plt.xlabel('Day')\n",
    "plt.ylabel('Close Prices')\n",
    "plt.title('Actual vs. Predicted Close Prices')\n",
    "plt.grid(True)  # Add grid lines for better visualization\n",
    "\n",
    "plt.show()\n"
   ]
  },
  {
   "cell_type": "code",
   "execution_count": 43,
   "id": "173bbe3e",
   "metadata": {
    "scrolled": true
   },
   "outputs": [
    {
     "data": {
      "image/png": "[encoded data removed]",
      "text/plain": [
       "<Figure size 640x480 with 1 Axes>"
      ]
     },
     "metadata": {},
     "output_type": "display_data"
    }
   ],
   "source": [
    "# Plot the actual data in blue\n",
    "plt.plot(df3[1935:], color='blue', label='Actual Data')\n",
    "\n",
    "# Plot the predicted data in red\n",
    "plt.plot(lst_output, color='red', label='Predicted Data')\n",
    "\n",
    "plt.legend()  # Show the legend for better clarity\n",
    "plt.xlabel('Time')\n",
    "plt.ylabel('Close Prices')\n",
    "plt.title('Actual vs. Predicted Close Prices')\n",
    "plt.grid(True)  # Add grid lines for better visualization\n",
    "\n",
    "plt.show()\n"
   ]
  },
  {
   "cell_type": "markdown",
   "id": "e163cdd6",
   "metadata": {},
   "source": [
    " Conclusion :: The model's performance on the test data showcases its proficiency in capturing underlying patterns and trends in stock market data. This successful prediction process signifies the potential of the LSTM learning model to provide valuable insights into future stock price movements, making it a promising tool for investors and analysts seeking to better understand stock market dynamics."
   ]
  }
 ],
 "metadata": {
  "kernelspec": {
   "display_name": "Python 3 (ipykernel)",
   "language": "python",
   "name": "python3"
  },
  "language_info": {
   "codemirror_mode": {
    "name": "ipython",
    "version": 3
   },
   "file_extension": ".py",
   "mimetype": "text/x-python",
   "name": "python",
   "nbconvert_exporter": "python",
   "pygments_lexer": "ipython3",
   "version": "3.9.13"
  }
 },
 "nbformat": 4,
 "nbformat_minor": 5
}
